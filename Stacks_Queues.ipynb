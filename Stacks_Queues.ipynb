{
  "nbformat": 4,
  "nbformat_minor": 0,
  "metadata": {
    "colab": {
      "name": "Stacks_Queues.ipynb",
      "provenance": [],
      "authorship_tag": "ABX9TyPN3OXPQz9nTElvJ9jxaQ7o",
      "include_colab_link": true
    },
    "kernelspec": {
      "name": "python3",
      "display_name": "Python 3"
    }
  },
  "cells": [
    {
      "cell_type": "markdown",
      "metadata": {
        "id": "view-in-github",
        "colab_type": "text"
      },
      "source": [
        "<a href=\"https://colab.research.google.com/github/mayankp158/Data_Structure/blob/master/Stacks_Queues.ipynb\" target=\"_parent\"><img src=\"https://colab.research.google.com/assets/colab-badge.svg\" alt=\"Open In Colab\"/></a>"
      ]
    },
    {
      "cell_type": "code",
      "metadata": {
        "id": "Y4DZdEJv7Seu",
        "colab_type": "code",
        "colab": {}
      },
      "source": [
        "class Stack(object):\n",
        "  def __init__(self,initial_size=10):\n",
        "    self.next = 0\n",
        "    self.arr = [0 for _ in range(initial_size)]\n",
        "    self.num_of_ele = 0\n",
        "\n",
        "  def push(self,value):\n",
        "    if self.next == len(self.arr):\n",
        "      self.handle_full()\n",
        "    self.arr[self.next] = value\n",
        "    self.num_of_ele +=1\n",
        "    self.next +=1\n",
        "\n",
        "  def handle_full(self):\n",
        "    index = 0\n",
        "    elements = 0\n",
        "    temp = self.arr\n",
        "    self.arr = [0 for _ in range(2*len(temp))]\n",
        "    for index, element in enumerate(temp):\n",
        "      self.arr[index] = element\n",
        "\n",
        "  def is_empty(self):\n",
        "    if self.num_of_ele == 0:\n",
        "      return True\n",
        "    return False\n",
        "  \n",
        "  def size(self):\n",
        "    return self.num_of_ele\n",
        "\n",
        "  def pop(self):\n",
        "    if self.is_empty():\n",
        "      self.next = 0\n",
        "      return None\n",
        "    self.next -= 1 \n",
        "    self.num_of_ele -= 1\n",
        "    return self.arr[self.next]"
      ],
      "execution_count": 1,
      "outputs": []
    },
    {
      "cell_type": "code",
      "metadata": {
        "id": "e1ySZk3G7Xxj",
        "colab_type": "code",
        "colab": {
          "base_uri": "https://localhost:8080/",
          "height": 51
        },
        "outputId": "76a031b4-f164-4ecc-ec58-2c9d6b94cb36"
      },
      "source": [
        "stack = Stack()\n",
        "stack.push(1)\n",
        "stack.push(2)\n",
        "stack.push(3)\n",
        "stack.push(4)\n",
        "stack.push(5)\n",
        "stack.push(6)\n",
        "stack.push(7)\n",
        "stack.push(8)\n",
        "stack.push(9)\n",
        "stack.push(10)\n",
        "stack.push(11)\n",
        "\n",
        "print(stack.arr)\n",
        "print(stack.is_empty())"
      ],
      "execution_count": 2,
      "outputs": [
        {
          "output_type": "stream",
          "text": [
            "[1, 2, 3, 4, 5, 6, 7, 8, 9, 10, 11, 0, 0, 0, 0, 0, 0, 0, 0, 0]\n",
            "False\n"
          ],
          "name": "stdout"
        }
      ]
    },
    {
      "cell_type": "code",
      "metadata": {
        "id": "_W6_RsFh7aXT",
        "colab_type": "code",
        "colab": {
          "base_uri": "https://localhost:8080/",
          "height": 34
        },
        "outputId": "ed300b42-3002-4bfc-fece-5fa0da2c1db7"
      },
      "source": [
        "stack.pop()"
      ],
      "execution_count": 3,
      "outputs": [
        {
          "output_type": "execute_result",
          "data": {
            "text/plain": [
              "11"
            ]
          },
          "metadata": {
            "tags": []
          },
          "execution_count": 3
        }
      ]
    },
    {
      "cell_type": "code",
      "metadata": {
        "id": "4Y6R8Tek7drx",
        "colab_type": "code",
        "colab": {
          "base_uri": "https://localhost:8080/",
          "height": 34
        },
        "outputId": "66ec050a-95ff-47ac-a9c8-ee42a24c999c"
      },
      "source": [
        "print(stack.pop())"
      ],
      "execution_count": 4,
      "outputs": [
        {
          "output_type": "stream",
          "text": [
            "10\n"
          ],
          "name": "stdout"
        }
      ]
    },
    {
      "cell_type": "code",
      "metadata": {
        "id": "FAbAb9Gt7eTm",
        "colab_type": "code",
        "colab": {}
      },
      "source": [
        "class Node(object):\n",
        "  def __init__(self,value):\n",
        "    self.value = value\n",
        "    self.next = None\n",
        "\n",
        "class Stack(object):\n",
        "  def __init__(self):\n",
        "    self.head = None\n",
        "    self.num_of_ele = 0\n",
        "\n",
        "  def push(self,value):\n",
        "    new_value = Node(value)\n",
        "    if self.head is None:\n",
        "      self.head = new_value\n",
        "    new_value.next = self.head\n",
        "    self.head = new_value\n",
        "    self.num_of_ele += 1\n",
        "\n",
        "  def is_empty(self):\n",
        "    if self.num_of_ele == 0:\n",
        "      return True\n",
        "    return False\n",
        "\n",
        "  def size(self):\n",
        "    if self.is_empty():\n",
        "      return None\n",
        "    return self.num_of_ele \n",
        "  \n",
        "  def pop(self):\n",
        "    if self.is_empty():\n",
        "      return None\n",
        "    remove = self.head\n",
        "    self.head = self.head.next\n",
        "    self.num_of_ele -= 1\n",
        "    return remove.value"
      ],
      "execution_count": 6,
      "outputs": []
    },
    {
      "cell_type": "code",
      "metadata": {
        "id": "gmGPRt-f7pZw",
        "colab_type": "code",
        "colab": {
          "base_uri": "https://localhost:8080/",
          "height": 51
        },
        "outputId": "156182b1-0dd0-4c78-a335-cbc0888c9995"
      },
      "source": [
        "stack = Stack()\n",
        "stack.push(1)\n",
        "stack.push(2)\n",
        "print(stack.is_empty())\n",
        "print(stack.size())"
      ],
      "execution_count": 7,
      "outputs": [
        {
          "output_type": "stream",
          "text": [
            "False\n",
            "2\n"
          ],
          "name": "stdout"
        }
      ]
    },
    {
      "cell_type": "code",
      "metadata": {
        "id": "H6NlZ4-O7uUl",
        "colab_type": "code",
        "colab": {
          "base_uri": "https://localhost:8080/",
          "height": 34
        },
        "outputId": "344b4f13-0f45-4b67-c46e-3e701f35c680"
      },
      "source": [
        "stack.pop()"
      ],
      "execution_count": 8,
      "outputs": [
        {
          "output_type": "execute_result",
          "data": {
            "text/plain": [
              "2"
            ]
          },
          "metadata": {
            "tags": []
          },
          "execution_count": 8
        }
      ]
    },
    {
      "cell_type": "code",
      "metadata": {
        "id": "xaTADDZ_7wzz",
        "colab_type": "code",
        "colab": {
          "base_uri": "https://localhost:8080/",
          "height": 34
        },
        "outputId": "4d211dd4-b0ab-4c95-cc22-ece36a016969"
      },
      "source": [
        "print(stack.head.value)"
      ],
      "execution_count": 9,
      "outputs": [
        {
          "output_type": "stream",
          "text": [
            "1\n"
          ],
          "name": "stdout"
        }
      ]
    },
    {
      "cell_type": "code",
      "metadata": {
        "id": "NfSLCLVw7yyP",
        "colab_type": "code",
        "colab": {}
      },
      "source": [
        "class Stack(object):\n",
        "  def __init__(self):\n",
        "    self.items = []\n",
        "\n",
        "  def push(self,value):\n",
        "    self.items.append(value)\n",
        "\n",
        "  def pop(self):\n",
        "    return self.items.pop()\n",
        "\n",
        "  def size(self):\n",
        "    if is_empty():\n",
        "      return None\n",
        "    return len(self.items)\n",
        "\n",
        "  def is_empty(self):\n",
        "    if len(self.items) == 0:\n",
        "      return True\n",
        "    else:\n",
        "      return False "
      ],
      "execution_count": 10,
      "outputs": []
    },
    {
      "cell_type": "code",
      "metadata": {
        "id": "Du5f_mty71Ni",
        "colab_type": "code",
        "colab": {}
      },
      "source": [
        "stack = Stack()\n",
        "items = [2,4,5,6]\n",
        "for i in items:\n",
        "  stack.push(i)"
      ],
      "execution_count": 11,
      "outputs": []
    },
    {
      "cell_type": "code",
      "metadata": {
        "id": "CWyNsIV8745C",
        "colab_type": "code",
        "colab": {
          "base_uri": "https://localhost:8080/",
          "height": 34
        },
        "outputId": "fc809684-b6a8-415f-c70f-97a87b152ac3"
      },
      "source": [
        "stack.items"
      ],
      "execution_count": 12,
      "outputs": [
        {
          "output_type": "execute_result",
          "data": {
            "text/plain": [
              "[2, 4, 5, 6]"
            ]
          },
          "metadata": {
            "tags": []
          },
          "execution_count": 12
        }
      ]
    }
  ]
}