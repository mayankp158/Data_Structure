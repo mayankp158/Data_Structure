{
  "nbformat": 4,
  "nbformat_minor": 0,
  "metadata": {
    "colab": {
      "name": "juggling_algo.ipynb",
      "provenance": [],
      "authorship_tag": "ABX9TyMhA7LUxoJw7Ls5ek9ZqWIO",
      "include_colab_link": true
    },
    "kernelspec": {
      "name": "python3",
      "display_name": "Python 3"
    }
  },
  "cells": [
    {
      "cell_type": "markdown",
      "metadata": {
        "id": "view-in-github",
        "colab_type": "text"
      },
      "source": [
        "<a href=\"https://colab.research.google.com/github/mayankp158/Data_Structure/blob/master/juggling_algo.ipynb\" target=\"_parent\"><img src=\"https://colab.research.google.com/assets/colab-badge.svg\" alt=\"Open In Colab\"/></a>"
      ]
    },
    {
      "cell_type": "code",
      "metadata": {
        "id": "qEwerk2HLLx1",
        "colab_type": "code",
        "colab": {}
      },
      "source": [
        "def gcd(a,b):\n",
        "  if b == 0:\n",
        "    return a\n",
        "  else:\n",
        "    return gcd(b,a%b)\n"
      ],
      "execution_count": 7,
      "outputs": []
    },
    {
      "cell_type": "code",
      "metadata": {
        "id": "N1lYz8V-Ldtt",
        "colab_type": "code",
        "colab": {
          "base_uri": "https://localhost:8080/",
          "height": 34
        },
        "outputId": "813694b6-c110-4e77-e60e-50ced67bb4de"
      },
      "source": [
        "gcd(3 ,12)"
      ],
      "execution_count": 8,
      "outputs": [
        {
          "output_type": "execute_result",
          "data": {
            "text/plain": [
              "3"
            ]
          },
          "metadata": {
            "tags": []
          },
          "execution_count": 8
        }
      ]
    },
    {
      "cell_type": "code",
      "metadata": {
        "id": "zbIaFDirVw0P",
        "colab_type": "code",
        "colab": {}
      },
      "source": [
        "def juggle(arr,d,n):\n",
        "  d = d%n\n",
        "  g_c_d = gcd(d,n)\n",
        "  for i in range(g_c_d):\n",
        "    temp = arr[i]\n",
        "    j = i\n",
        "    while 1:\n",
        "      k = j+d\n",
        "      if k>=n:\n",
        "        k=k-n\n",
        "      if k==i:\n",
        "        break\n",
        "      arr[j] = arr[k]\n",
        "      j = k\n",
        "    arr[j] = temp\n",
        "\n",
        "def print_ans(arr,n):\n",
        "  for i in range(len(arr)):\n",
        "    print(arr[i],end=\" \")\n",
        "\n",
        "def gcd(a,b):\n",
        "  if b == 0:\n",
        "    return a\n",
        "  else:\n",
        "    return gcd(b,a%b)\n",
        "    \n",
        "\n",
        "arr = [1, 2, 3, 4, 5, 6, 7] \n",
        "n = len(arr) \n",
        "d = 2"
      ],
      "execution_count": 20,
      "outputs": []
    },
    {
      "cell_type": "code",
      "metadata": {
        "id": "Dj-GWJGpYGFt",
        "colab_type": "code",
        "colab": {}
      },
      "source": [
        "juggle(arr,d,n)"
      ],
      "execution_count": 21,
      "outputs": []
    },
    {
      "cell_type": "code",
      "metadata": {
        "id": "2f-2cJoSY7tP",
        "colab_type": "code",
        "colab": {
          "base_uri": "https://localhost:8080/",
          "height": 34
        },
        "outputId": "8bf195ff-f581-4dd0-c166-5864fa78e986"
      },
      "source": [
        "print_ans(arr,n)"
      ],
      "execution_count": 22,
      "outputs": [
        {
          "output_type": "stream",
          "text": [
            "3 4 5 6 7 1 2 "
          ],
          "name": "stdout"
        }
      ]
    }
  ]
}