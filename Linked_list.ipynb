{
  "nbformat": 4,
  "nbformat_minor": 0,
  "metadata": {
    "colab": {
      "name": "Linked_list.ipynb",
      "provenance": [],
      "authorship_tag": "ABX9TyMdwx6PaoCx62Gd6ab7ojPK",
      "include_colab_link": true
    },
    "kernelspec": {
      "name": "python3",
      "display_name": "Python 3"
    }
  },
  "cells": [
    {
      "cell_type": "markdown",
      "metadata": {
        "id": "view-in-github",
        "colab_type": "text"
      },
      "source": [
        "<a href=\"https://colab.research.google.com/github/mayankp158/Data_Structure/blob/master/Linked_list.ipynb\" target=\"_parent\"><img src=\"https://colab.research.google.com/assets/colab-badge.svg\" alt=\"Open In Colab\"/></a>"
      ]
    },
    {
      "cell_type": "code",
      "metadata": {
        "id": "aKIe-mS-gvdb",
        "colab_type": "code",
        "colab": {
          "base_uri": "https://localhost:8080/",
          "height": 34
        },
        "outputId": "e889bd65-a266-4654-abf6-a92df11b9bd9"
      },
      "source": [
        "# singly linked list to python list\n",
        "\n",
        "class Node(object):\n",
        "  def __init__(self,value):\n",
        "    self.value = value\n",
        "    self.next = None\n",
        "\n",
        "class Linked_list(object):\n",
        "  def __init__(self):\n",
        "    self.head = None\n",
        "  \n",
        "    \n",
        "  def append(self,value):\n",
        "    if self.head is None:\n",
        "      self.head = Node(value)\n",
        "      return\n",
        "    node = self.head\n",
        "    while node.next:\n",
        "      node = node.next\n",
        "\n",
        "    node.next = Node(value)\n",
        "    return\n",
        "  def to_list(self):\n",
        "    node = self.head\n",
        "    new = []\n",
        "    while node:\n",
        "      new.append(node.value)\n",
        "      node = node.next\n",
        "    return new\n",
        "    \n",
        "\n",
        "List = Linked_list()\n",
        "List.append(1)\n",
        "List.append(2)\n",
        "List.append(3)\n",
        "\n",
        "node = List.head\n",
        "List.to_list()"
      ],
      "execution_count": 1,
      "outputs": [
        {
          "output_type": "execute_result",
          "data": {
            "text/plain": [
              "[1, 2, 3]"
            ]
          },
          "metadata": {
            "tags": []
          },
          "execution_count": 1
        }
      ]
    },
    {
      "cell_type": "code",
      "metadata": {
        "id": "EMCDMVfpgz_c",
        "colab_type": "code",
        "colab": {
          "base_uri": "https://localhost:8080/",
          "height": 68
        },
        "outputId": "3cbd6c24-d8df-4751-95bc-288eae0a2e17"
      },
      "source": [
        "#Doubly Linked List\n",
        "\n",
        "class Node(object):\n",
        "  def __init__(self,value):\n",
        "    self.value = value\n",
        "    self.next = None\n",
        "    self.previous = None\n",
        "\n",
        "class Doubly(object):\n",
        "  def __init__(self):\n",
        "    self.head = None\n",
        "    self.tail = None\n",
        "\n",
        "  def append(self,value):\n",
        "    if self.head is None:\n",
        "      self.head = Node(value)\n",
        "      self.tail = self.head\n",
        "      return\n",
        "    \n",
        "    node = self.tail\n",
        "    node.next = Node(value)\n",
        "    node.previous = self.tail\n",
        "    self.tail = node.next\n",
        "    return\n",
        "\n",
        "List2 = Doubly()\n",
        "List2.append(3)\n",
        "List2.append(4)\n",
        "List2.append(5)\n",
        "\n",
        "node = List2.head\n",
        "while node:\n",
        "  print(node.value)\n",
        "  node = node.next"
      ],
      "execution_count": 2,
      "outputs": [
        {
          "output_type": "stream",
          "text": [
            "3\n",
            "4\n",
            "5\n"
          ],
          "name": "stdout"
        }
      ]
    },
    {
      "cell_type": "code",
      "metadata": {
        "id": "cqx461v-g3v0",
        "colab_type": "code",
        "colab": {}
      },
      "source": [
        "class Node(object):\n",
        "  def __init__(self,value):\n",
        "    self.value = value\n",
        "    self.next = None\n",
        "    self.previous = None\n",
        "\n",
        "class LinkedList(object):\n",
        "  def __init__(self):\n",
        "    self.head = None\n",
        "\n",
        "  def append(self,value):\n",
        "    if self.head is None:\n",
        "      self.head = Node(value)\n",
        "      return\n",
        "    node = self.head\n",
        "    while node.next:\n",
        "      node = node.next\n",
        "    node.next = Node(value)\n",
        "    return\n",
        "\n",
        "  def prepend(self,value):\n",
        "    if self.head is None:\n",
        "      self.head = Node(value)\n",
        "      return\n",
        "    node = self.head\n",
        "    self.head = Node(value)\n",
        "    self.head.next = node\n",
        "    return\n",
        "\n",
        "  def search(self,value):\n",
        "    head = self.head\n",
        "    while head:\n",
        "      if head.value == value:\n",
        "        return head\n",
        "      head = head.next\n",
        "    return False\n",
        "\n",
        "  def remove(self,value):\n",
        "    previous = None\n",
        "\n",
        "    node = self.head\n",
        "    while node:\n",
        "      if value == node.value:\n",
        "        if previous is None:\n",
        "          self.head = node.next\n",
        "        else:\n",
        "          previous.next = node.next\n",
        "      previous = node\n",
        "      node = node.next\n",
        "\n",
        "  def pop(self):\n",
        "    node = self.head\n",
        "    self.head = node.next\n",
        "    return node.value\n",
        "\n",
        "  def insert(self,value,pos):\n",
        "    position = 1\n",
        "    previous = None\n",
        "    node = self.head\n",
        "    if pos == 0:\n",
        "      self.head = Node(value)\n",
        "      self.head.next = node\n",
        "      return\n",
        "\n",
        "    while node.next:\n",
        "      if pos == position:\n",
        "        previous = node\n",
        "        next_node = node.next\n",
        "        previous.next = Node(value)\n",
        "        new_node = previous.next\n",
        "        new_node.next = next_node\n",
        "      node = node.next\n",
        "      position +=1\n",
        "    \n",
        "    if node.next is None:\n",
        "      node.next = Node(value)\n",
        "      node = node.next\n",
        "    return\n",
        "\n",
        "  def length(self):\n",
        "    node = self.head\n",
        "    len = 0\n",
        "    while node:\n",
        "      len +=1\n",
        "      node = node.next\n",
        "    return len"
      ],
      "execution_count": 3,
      "outputs": []
    },
    {
      "cell_type": "code",
      "metadata": {
        "id": "ifunXBZNg7wJ",
        "colab_type": "code",
        "colab": {
          "base_uri": "https://localhost:8080/",
          "height": 68
        },
        "outputId": "556d4ae4-fc9e-4a69-9130-c97aa800f0a8"
      },
      "source": [
        "new_list = LinkedList()\n",
        "new_list.append(1)\n",
        "new_list.append(2)\n",
        "new_list.append(3)\n",
        "node = new_list.head\n",
        "while node:\n",
        "  print(node.value)\n",
        "  node = node.next"
      ],
      "execution_count": 4,
      "outputs": [
        {
          "output_type": "stream",
          "text": [
            "1\n",
            "2\n",
            "3\n"
          ],
          "name": "stdout"
        }
      ]
    },
    {
      "cell_type": "code",
      "metadata": {
        "id": "_vZ5RYEOhDVI",
        "colab_type": "code",
        "colab": {}
      },
      "source": [
        "# new_list.remove(3)\n",
        "# new_list.pop()\n",
        "# new_list.insert(5,3)\n",
        "# new_list.length()\n",
        "# new_list.search(1)"
      ],
      "execution_count": null,
      "outputs": []
    }
  ]
}