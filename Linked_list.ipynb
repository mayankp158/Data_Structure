{
  "nbformat": 4,
  "nbformat_minor": 0,
  "metadata": {
    "colab": {
      "name": "Linked_list.ipynb",
      "provenance": [],
      "authorship_tag": "ABX9TyMzKI4GfdlDa9cWFo6uMwGM",
      "include_colab_link": true
    },
    "kernelspec": {
      "name": "python3",
      "display_name": "Python 3"
    }
  },
  "cells": [
    {
      "cell_type": "markdown",
      "metadata": {
        "id": "view-in-github",
        "colab_type": "text"
      },
      "source": [
        "<a href=\"https://colab.research.google.com/github/mayankp158/Data_Structure/blob/master/Linked_list.ipynb\" target=\"_parent\"><img src=\"https://colab.research.google.com/assets/colab-badge.svg\" alt=\"Open In Colab\"/></a>"
      ]
    },
    {
      "cell_type": "code",
      "metadata": {
        "id": "aKIe-mS-gvdb",
        "colab_type": "code",
        "colab": {
          "base_uri": "https://localhost:8080/",
          "height": 34
        },
        "outputId": "e889bd65-a266-4654-abf6-a92df11b9bd9"
      },
      "source": [
        "# singly linked list to python list\n",
        "\n",
        "class Node(object):\n",
        "  def __init__(self,value):\n",
        "    self.value = value\n",
        "    self.next = None\n",
        "\n",
        "class Linked_list(object):\n",
        "  def __init__(self):\n",
        "    self.head = None\n",
        "  \n",
        "    \n",
        "  def append(self,value):\n",
        "    if self.head is None:\n",
        "      self.head = Node(value)\n",
        "      return\n",
        "    node = self.head\n",
        "    while node.next:\n",
        "      node = node.next\n",
        "\n",
        "    node.next = Node(value)\n",
        "    return\n",
        "  def to_list(self):\n",
        "    node = self.head\n",
        "    new = []\n",
        "    while node:\n",
        "      new.append(node.value)\n",
        "      node = node.next\n",
        "    return new\n",
        "    \n",
        "\n",
        "List = Linked_list()\n",
        "List.append(1)\n",
        "List.append(2)\n",
        "List.append(3)\n",
        "\n",
        "node = List.head\n",
        "List.to_list()"
      ],
      "execution_count": 1,
      "outputs": [
        {
          "output_type": "execute_result",
          "data": {
            "text/plain": [
              "[1, 2, 3]"
            ]
          },
          "metadata": {
            "tags": []
          },
          "execution_count": 1
        }
      ]
    },
    {
      "cell_type": "code",
      "metadata": {
        "id": "EMCDMVfpgz_c",
        "colab_type": "code",
        "colab": {
          "base_uri": "https://localhost:8080/",
          "height": 68
        },
        "outputId": "3cbd6c24-d8df-4751-95bc-288eae0a2e17"
      },
      "source": [
        "#Doubly Linked List\n",
        "\n",
        "class Node(object):\n",
        "  def __init__(self,value):\n",
        "    self.value = value\n",
        "    self.next = None\n",
        "    self.previous = None\n",
        "\n",
        "class Doubly(object):\n",
        "  def __init__(self):\n",
        "    self.head = None\n",
        "    self.tail = None\n",
        "\n",
        "  def append(self,value):\n",
        "    if self.head is None:\n",
        "      self.head = Node(value)\n",
        "      self.tail = self.head\n",
        "      return\n",
        "    \n",
        "    node = self.tail\n",
        "    node.next = Node(value)\n",
        "    node.previous = self.tail\n",
        "    self.tail = node.next\n",
        "    return\n",
        "\n",
        "List2 = Doubly()\n",
        "List2.append(3)\n",
        "List2.append(4)\n",
        "List2.append(5)\n",
        "\n",
        "node = List2.head\n",
        "while node:\n",
        "  print(node.value)\n",
        "  node = node.next"
      ],
      "execution_count": 2,
      "outputs": [
        {
          "output_type": "stream",
          "text": [
            "3\n",
            "4\n",
            "5\n"
          ],
          "name": "stdout"
        }
      ]
    },
    {
      "cell_type": "code",
      "metadata": {
        "id": "cqx461v-g3v0",
        "colab_type": "code",
        "colab": {}
      },
      "source": [
        "# Linked List basic functions\n",
        "\n",
        "class Node(object):\n",
        "  def __init__(self,value):\n",
        "    self.value = value\n",
        "    self.next = None\n",
        "    self.previous = None\n",
        "\n",
        "class LinkedList(object):\n",
        "  def __init__(self):\n",
        "    self.head = None\n",
        "\n",
        "  def append(self,value):\n",
        "    if self.head is None:\n",
        "      self.head = Node(value)\n",
        "      return\n",
        "    node = self.head\n",
        "    while node.next:\n",
        "      node = node.next\n",
        "    node.next = Node(value)\n",
        "    return\n",
        "\n",
        "  def prepend(self,value):\n",
        "    if self.head is None:\n",
        "      self.head = Node(value)\n",
        "      return\n",
        "    node = self.head\n",
        "    self.head = Node(value)\n",
        "    self.head.next = node\n",
        "    return\n",
        "\n",
        "  def search(self,value):\n",
        "    head = self.head\n",
        "    while head:\n",
        "      if head.value == value:\n",
        "        return head\n",
        "      head = head.next\n",
        "    return False\n",
        "\n",
        "  def remove(self,value):\n",
        "    previous = None\n",
        "\n",
        "    node = self.head\n",
        "    while node:\n",
        "      if value == node.value:\n",
        "        if previous is None:\n",
        "          self.head = node.next\n",
        "        else:\n",
        "          previous.next = node.next\n",
        "      previous = node\n",
        "      node = node.next\n",
        "\n",
        "  def pop(self):\n",
        "    node = self.head\n",
        "    self.head = node.next\n",
        "    return node.value\n",
        "\n",
        "  def insert(self,value,pos):\n",
        "    position = 1\n",
        "    previous = None\n",
        "    node = self.head\n",
        "    if pos == 0:\n",
        "      self.head = Node(value)\n",
        "      self.head.next = node\n",
        "      return\n",
        "\n",
        "    while node.next:\n",
        "      if pos == position:\n",
        "        previous = node\n",
        "        next_node = node.next\n",
        "        previous.next = Node(value)\n",
        "        new_node = previous.next\n",
        "        new_node.next = next_node\n",
        "      node = node.next\n",
        "      position +=1\n",
        "    \n",
        "    if node.next is None:\n",
        "      node.next = Node(value)\n",
        "      node = node.next\n",
        "    return\n",
        "\n",
        "  def length(self):\n",
        "    node = self.head\n",
        "    len = 0\n",
        "    while node:\n",
        "      len +=1\n",
        "      node = node.next\n",
        "    return len"
      ],
      "execution_count": 3,
      "outputs": []
    },
    {
      "cell_type": "code",
      "metadata": {
        "id": "ifunXBZNg7wJ",
        "colab_type": "code",
        "colab": {
          "base_uri": "https://localhost:8080/",
          "height": 68
        },
        "outputId": "556d4ae4-fc9e-4a69-9130-c97aa800f0a8"
      },
      "source": [
        "new_list = LinkedList()\n",
        "new_list.append(1)\n",
        "new_list.append(2)\n",
        "new_list.append(3)\n",
        "node = new_list.head\n",
        "while node:\n",
        "  print(node.value)\n",
        "  node = node.next"
      ],
      "execution_count": 4,
      "outputs": [
        {
          "output_type": "stream",
          "text": [
            "1\n",
            "2\n",
            "3\n"
          ],
          "name": "stdout"
        }
      ]
    },
    {
      "cell_type": "code",
      "metadata": {
        "id": "_vZ5RYEOhDVI",
        "colab_type": "code",
        "colab": {}
      },
      "source": [
        "# new_list.remove(3)\n",
        "# new_list.pop()\n",
        "# new_list.insert(5,3)\n",
        "# new_list.length()\n",
        "# new_list.search(1)"
      ],
      "execution_count": null,
      "outputs": []
    },
    {
      "cell_type": "code",
      "metadata": {
        "id": "j6rJIJbE0cBo",
        "colab_type": "code",
        "colab": {}
      },
      "source": [
        "# Reverse a Linked List\n",
        "\n",
        "class Node(object):\n",
        "  def __init__(self,value):\n",
        "    self.value = value\n",
        "    self.next = None \n",
        "\n",
        "class LinkedList(object):\n",
        "  def __init__(self):\n",
        "    self.head = None\n",
        "  \n",
        "  def append(self,value):\n",
        "    if self.head is None:\n",
        "      self.head = Node(value)\n",
        "      return\n",
        "    \n",
        "    node = self.head\n",
        "    while node.next:\n",
        "      node = node.next\n",
        "    node.next = Node(value)\n",
        "    return\n",
        "\n",
        "  def helper(self,node,name):\n",
        "    if node is None:\n",
        "      print(name + \":\" + \"None\")\n",
        "    else:\n",
        "      print(name + \":\" + str(node.value))\n",
        "  \n",
        "  def reverse(self):\n",
        "    prev = None\n",
        "    cur = self.head\n",
        "\n",
        "    while cur:\n",
        "      nxt = cur.next\n",
        "      cur.next = prev\n",
        "\n",
        "      self.helper(prev,\"PREV\")\n",
        "      self.helper(cur,\"CUR\")\n",
        "      self.helper(nxt,\"NXT\")\n",
        "      print(\"\\n\")\n",
        "\n",
        "      prev = cur\n",
        "      cur = nxt\n",
        "\n",
        "      \n",
        "\n",
        "\n",
        "    self.head = prev\n",
        "    return"
      ],
      "execution_count": 5,
      "outputs": []
    },
    {
      "cell_type": "code",
      "metadata": {
        "id": "4Z53ZTpw0c9n",
        "colab_type": "code",
        "colab": {}
      },
      "source": [
        "linked_list = LinkedList()\n",
        "input_list = [4,2,5,1,-3,0]\n",
        "for i in input_list:\n",
        "  linked_list.append(i)"
      ],
      "execution_count": 6,
      "outputs": []
    },
    {
      "cell_type": "code",
      "metadata": {
        "id": "46jnPv040faM",
        "colab_type": "code",
        "colab": {
          "base_uri": "https://localhost:8080/",
          "height": 34
        },
        "outputId": "9429cf61-4ce0-4777-e809-56c09b3a6bf2"
      },
      "source": [
        "original_list = []\n",
        "node = linked_list.head\n",
        "while node:\n",
        "  original_list.append(node.value)\n",
        "  node = node.next\n",
        "print(original_list)"
      ],
      "execution_count": 7,
      "outputs": [
        {
          "output_type": "stream",
          "text": [
            "[4, 2, 5, 1, -3, 0]\n"
          ],
          "name": "stdout"
        }
      ]
    },
    {
      "cell_type": "code",
      "metadata": {
        "id": "RcoggYMJ0hkW",
        "colab_type": "code",
        "colab": {
          "base_uri": "https://localhost:8080/",
          "height": 527
        },
        "outputId": "8e26adf4-7b01-41ad-eaed-9d112d8c466b"
      },
      "source": [
        "linked_list.reverse()"
      ],
      "execution_count": 8,
      "outputs": [
        {
          "output_type": "stream",
          "text": [
            "PREV:None\n",
            "CUR:4\n",
            "NXT:2\n",
            "\n",
            "\n",
            "PREV:4\n",
            "CUR:2\n",
            "NXT:5\n",
            "\n",
            "\n",
            "PREV:2\n",
            "CUR:5\n",
            "NXT:1\n",
            "\n",
            "\n",
            "PREV:5\n",
            "CUR:1\n",
            "NXT:-3\n",
            "\n",
            "\n",
            "PREV:1\n",
            "CUR:-3\n",
            "NXT:0\n",
            "\n",
            "\n",
            "PREV:-3\n",
            "CUR:0\n",
            "NXT:None\n",
            "\n",
            "\n"
          ],
          "name": "stdout"
        }
      ]
    },
    {
      "cell_type": "code",
      "metadata": {
        "id": "bzWMp3DN0k3Z",
        "colab_type": "code",
        "colab": {
          "base_uri": "https://localhost:8080/",
          "height": 34
        },
        "outputId": "5f0dfe18-baf7-4628-8657-965fd19fb311"
      },
      "source": [
        "new_list = []\n",
        "node = linked_list.head\n",
        "while node:\n",
        "  new_list.append(node.value)\n",
        "  node = node.next \n",
        "print(new_list)"
      ],
      "execution_count": 9,
      "outputs": [
        {
          "output_type": "stream",
          "text": [
            "[0, -3, 1, 5, 2, 4]\n"
          ],
          "name": "stdout"
        }
      ]
    },
    {
      "cell_type": "code",
      "metadata": {
        "id": "Q13XT0fn0rEC",
        "colab_type": "code",
        "colab": {}
      },
      "source": [
        "# Detecting Loop in a Linked List\n",
        "\n",
        "class Node(object):\n",
        "  def __init__(self,value):\n",
        "    self.value = value\n",
        "    self.next = None \n",
        "\n",
        "class LinkedList(object):\n",
        "  def __init__(self):\n",
        "    self.head = None\n",
        "  \n",
        "  def append(self,value):\n",
        "    if self.head is None:\n",
        "      self.head = Node(value)\n",
        "      return\n",
        "    \n",
        "    node = self.head\n",
        "    while node.next:\n",
        "      node = node.next\n",
        "    node.next = Node(value)\n",
        "    return\n",
        "\n",
        "def check_loop(linked_list):\n",
        "  slow = linked_list.head\n",
        "  fast = linked_list.head\n",
        "\n",
        "  while(slow and fast and fast.next):\n",
        "    slow = slow.next\n",
        "    fast = fast.next.next\n",
        "    if slow == fast:\n",
        "      return True\n",
        "  return False"
      ],
      "execution_count": 10,
      "outputs": []
    },
    {
      "cell_type": "code",
      "metadata": {
        "id": "0pxSGGD40u1s",
        "colab_type": "code",
        "colab": {
          "base_uri": "https://localhost:8080/",
          "height": 34
        },
        "outputId": "0b921842-6fc2-46c6-93f1-d17cc8ccfd74"
      },
      "source": [
        "linked_list = LinkedList()\n",
        "input_list = [20,4,15,10]\n",
        "for i in input_list:\n",
        "  linked_list.append(i)\n",
        "new_list = []\n",
        "node = linked_list.head\n",
        "while node:\n",
        "  new_list.append(node.value)\n",
        "  node = node.next \n",
        "print(new_list)"
      ],
      "execution_count": 11,
      "outputs": [
        {
          "output_type": "stream",
          "text": [
            "[20, 4, 15, 10]\n"
          ],
          "name": "stdout"
        }
      ]
    },
    {
      "cell_type": "code",
      "metadata": {
        "id": "da1sPLXH0xH9",
        "colab_type": "code",
        "colab": {
          "base_uri": "https://localhost:8080/",
          "height": 51
        },
        "outputId": "622c1f5f-0707-4b4b-8093-e15c18a6a580"
      },
      "source": [
        "linked_list.head.next.next.next.next = linked_list.head; \n",
        "  \n",
        "if(check_loop(linked_list)): \n",
        "    print (\"Loop found\") \n",
        "else : \n",
        "    print (\"No Loop \")\n",
        "\n",
        "check_loop(linked_list)"
      ],
      "execution_count": 13,
      "outputs": [
        {
          "output_type": "stream",
          "text": [
            "Loop found\n"
          ],
          "name": "stdout"
        },
        {
          "output_type": "execute_result",
          "data": {
            "text/plain": [
              "True"
            ]
          },
          "metadata": {
            "tags": []
          },
          "execution_count": 13
        }
      ]
    }
  ]
}