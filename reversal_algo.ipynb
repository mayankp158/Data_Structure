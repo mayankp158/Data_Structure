{
  "nbformat": 4,
  "nbformat_minor": 0,
  "metadata": {
    "colab": {
      "name": "reversal_algo.ipynb",
      "provenance": [],
      "authorship_tag": "ABX9TyMVLkvpIpFrjE0wUYlpyQzH",
      "include_colab_link": true
    },
    "kernelspec": {
      "name": "python3",
      "display_name": "Python 3"
    }
  },
  "cells": [
    {
      "cell_type": "markdown",
      "metadata": {
        "id": "view-in-github",
        "colab_type": "text"
      },
      "source": [
        "<a href=\"https://colab.research.google.com/github/mayankp158/Data_Structure/blob/master/reversal_algo.ipynb\" target=\"_parent\"><img src=\"https://colab.research.google.com/assets/colab-badge.svg\" alt=\"Open In Colab\"/></a>"
      ]
    },
    {
      "cell_type": "code",
      "metadata": {
        "id": "LSDW93i4cEez",
        "colab_type": "code",
        "colab": {}
      },
      "source": [
        "def main_func(arr,start,end):\n",
        "  while(start<end):\n",
        "    temp = arr[start]\n",
        "    arr[start] = arr[end]\n",
        "    arr[end] = temp\n",
        "    start +=1\n",
        "    end -=1"
      ],
      "execution_count": 6,
      "outputs": []
    },
    {
      "cell_type": "code",
      "metadata": {
        "id": "48vs4CV7cj6i",
        "colab_type": "code",
        "colab": {}
      },
      "source": [
        "def reversal(arr,d):\n",
        "  if d == 0:\n",
        "    return\n",
        "  n = len(arr)\n",
        "  main_func(arr,0,d-1)\n",
        "  main_func(arr,d,n-1)\n",
        "  main_func(arr,0,n-1)"
      ],
      "execution_count": 7,
      "outputs": []
    },
    {
      "cell_type": "code",
      "metadata": {
        "id": "AFRjXDUGdmKy",
        "colab_type": "code",
        "colab": {}
      },
      "source": [
        "def print_ans(arr):\n",
        "    print(arr)"
      ],
      "execution_count": 10,
      "outputs": []
    },
    {
      "cell_type": "code",
      "metadata": {
        "id": "5d_FmT2vdNgo",
        "colab_type": "code",
        "colab": {
          "base_uri": "https://localhost:8080/",
          "height": 34
        },
        "outputId": "304b65e8-2394-4849-bde4-8d828f3c6f25"
      },
      "source": [
        "arr = [1, 2, 3, 4, 5, 6, 7]\n",
        "n = len(arr)\n",
        "d = 2\n",
        "d = d%n\n",
        "\n",
        "reversal(arr,d)\n",
        "print_ans(arr)"
      ],
      "execution_count": 11,
      "outputs": [
        {
          "output_type": "stream",
          "text": [
            "[3, 4, 5, 6, 7, 1, 2]\n"
          ],
          "name": "stdout"
        }
      ]
    }
  ]
}