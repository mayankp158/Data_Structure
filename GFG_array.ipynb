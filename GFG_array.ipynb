{
  "nbformat": 4,
  "nbformat_minor": 0,
  "metadata": {
    "colab": {
      "name": "GFG_array.ipynb",
      "provenance": [],
      "authorship_tag": "ABX9TyM7cKSV8r1Gwa03tf9sOYpB",
      "include_colab_link": true
    },
    "kernelspec": {
      "name": "python3",
      "display_name": "Python 3"
    }
  },
  "cells": [
    {
      "cell_type": "markdown",
      "metadata": {
        "id": "view-in-github",
        "colab_type": "text"
      },
      "source": [
        "<a href=\"https://colab.research.google.com/github/mayankp158/Data_Structure/blob/master/GFG_array.ipynb\" target=\"_parent\"><img src=\"https://colab.research.google.com/assets/colab-badge.svg\" alt=\"Open In Colab\"/></a>"
      ]
    },
    {
      "cell_type": "code",
      "metadata": {
        "id": "GO219oMDjVSw",
        "colab_type": "code",
        "colab": {
          "base_uri": "https://localhost:8080/",
          "height": 34
        },
        "outputId": "ea25437f-e447-4008-af4e-d18126bfaeeb"
      },
      "source": [
        "def rotate(arr,n):\n",
        "  temp = arr[n-1]\n",
        "  \n",
        "  for i in range(n-1,0,-1):\n",
        "    arr[i] = arr[i-1]\n",
        "  arr[0] = temp\n",
        "  return arr\n",
        "  \n",
        "rotate([1,2,3,4,5],5)"
      ],
      "execution_count": 17,
      "outputs": [
        {
          "output_type": "execute_result",
          "data": {
            "text/plain": [
              "[5, 1, 2, 3, 4]"
            ]
          },
          "metadata": {
            "tags": []
          },
          "execution_count": 17
        }
      ]
    },
    {
      "cell_type": "code",
      "metadata": {
        "id": "Z2L-ax_1UJyh",
        "colab_type": "code",
        "colab": {
          "base_uri": "https://localhost:8080/",
          "height": 34
        },
        "outputId": "be4d43d6-0768-4c66-94a6-3ffea39f7236"
      },
      "source": [
        "def binary(arr,l,h,key):\n",
        "\n",
        "  if l>h:\n",
        "    return -1\n",
        "  mid = (l+h) // 2\n",
        "  if arr[mid] == key:\n",
        "    return mid\n",
        "  \n",
        "  #check array first half is sorted or not\n",
        "\n",
        "  if arr[l] <= arr[mid]:\n",
        "    #search in first half range\n",
        "    if key >= arr[l] and key <= arr[mid]:\n",
        "      return binary(arr,l,mid-1,key)\n",
        "    return binary(arr,mid+1,h,key)\n",
        "    #search in second half range\n",
        "  if key >= arr[mid] and key <=arr[h]:\n",
        "    return binary(arr,mid+1,h,key)\n",
        "  return binary(arr,l,mid-1,key)\n",
        "\n",
        "arr = [4, 5, 6, 7, 8, 9, 1, 2, 3] \n",
        "key = 6\n",
        "i = binary(arr, 0, len(arr)-1, key) \n",
        "if i != -1: \n",
        "    print (\"Index: % d\"% i) \n",
        "else: \n",
        "    print (\"Key not found\")"
      ],
      "execution_count": 29,
      "outputs": [
        {
          "output_type": "stream",
          "text": [
            "Index:  2\n"
          ],
          "name": "stdout"
        }
      ]
    },
    {
      "cell_type": "code",
      "metadata": {
        "id": "tgz_kWuviyV7",
        "colab_type": "code",
        "colab": {
          "base_uri": "https://localhost:8080/",
          "height": 34
        },
        "outputId": "30ea735c-6229-4d78-f826-2ae86a04454f"
      },
      "source": [
        "def find(arr,sum):\n",
        "  for i in arr:\n",
        "    new = sum - i\n",
        "    for j in arr:\n",
        "      if j == new:\n",
        "        return (i,j)\n",
        "        break\n",
        "\n",
        "find([11, 15, 26, 38, 9, 10],35)"
      ],
      "execution_count": 40,
      "outputs": [
        {
          "output_type": "execute_result",
          "data": {
            "text/plain": [
              "(26, 9)"
            ]
          },
          "metadata": {
            "tags": []
          },
          "execution_count": 40
        }
      ]
    },
    {
      "cell_type": "code",
      "metadata": {
        "id": "YwJE2uXBrNFa",
        "colab_type": "code",
        "colab": {
          "base_uri": "https://localhost:8080/",
          "height": 34
        },
        "outputId": "83f53f1b-1f3d-4ae5-a38f-e20cf5cd86fa"
      },
      "source": [
        "def find2(arr,n,sum):\n",
        "  for i in range(n):\n",
        "    if arr[i] > arr[i+1]:\n",
        "      break\n",
        "  l = (i+1)%n\n",
        "  r = i\n",
        "  \n",
        "  count = 0\n",
        "  while(l!=r):\n",
        "    \n",
        "    if arr[l]+arr[r] == sum:\n",
        "      count +=1\n",
        "\n",
        "      if l == (r-1+n)%n:\n",
        "        \n",
        "        return count\n",
        "\n",
        "      l = (l+1)%n\n",
        "      r = (r-1+n)%n\n",
        "\n",
        "    elif arr[l]+arr[r]<sum:\n",
        "      l = (l+1)%n\n",
        "\n",
        "    else:\n",
        "      r = (n+r-1)%n\n",
        "  return count\n",
        "\n",
        "\n",
        "arr = [11, 15, 6, 7, 9, 10] \n",
        "s = 16\n",
        "  \n",
        "print(find2(arr, 6, s))"
      ],
      "execution_count": 61,
      "outputs": [
        {
          "output_type": "stream",
          "text": [
            "2\n"
          ],
          "name": "stdout"
        }
      ]
    },
    {
      "cell_type": "code",
      "metadata": {
        "id": "zMHNREDFz2HZ",
        "colab_type": "code",
        "colab": {
          "base_uri": "https://localhost:8080/",
          "height": 34
        },
        "outputId": "08555fa3-2985-4f6e-b0d3-a2ece1af5b2f"
      },
      "source": [
        "def max_sum(arr):\n",
        "  sum = 0\n",
        "  for i in range(len(arr)):\n",
        "    sum += arr[i]*i\n",
        "    i=i+1\n",
        "  return sum\n",
        "print(max_sum([1, 2, 3, 4, 5, 6, 7, 8, 9, 10]))"
      ],
      "execution_count": 72,
      "outputs": [
        {
          "output_type": "stream",
          "text": [
            "330\n"
          ],
          "name": "stdout"
        }
      ]
    },
    {
      "cell_type": "code",
      "metadata": {
        "id": "QVEbunIIAZgy",
        "colab_type": "code",
        "colab": {}
      },
      "source": [
        "def max(arr):\n",
        "  curr_val = 0\n",
        "  arrsum = 0\n",
        "  n = len(arr)\n",
        "  for i in range(n):\n",
        "    arrsum += arr[i]\n",
        "    curr_val += i*arr[i]\n",
        "\n",
        "    max_val = curr_val\n",
        "\n",
        "  for j in range(1,n):\n",
        "    curr_val += arrsum - n*arr[n-j]\n",
        "    if curr_val >max_val:\n",
        "      max_val = curr_val\n",
        "  return max_val "
      ],
      "execution_count": 6,
      "outputs": []
    },
    {
      "cell_type": "code",
      "metadata": {
        "id": "VJA4dMa1BonM",
        "colab_type": "code",
        "colab": {
          "base_uri": "https://localhost:8080/",
          "height": 34
        },
        "outputId": "6020ac4d-7ba4-4f09-914e-d847da426e1a"
      },
      "source": [
        "arr = [10, 1, 2, 3, 4, 5, 6, 7, 8, 9] \n",
        "max(arr) "
      ],
      "execution_count": 7,
      "outputs": [
        {
          "output_type": "execute_result",
          "data": {
            "text/plain": [
              "330"
            ]
          },
          "metadata": {
            "tags": []
          },
          "execution_count": 7
        }
      ]
    },
    {
      "cell_type": "code",
      "metadata": {
        "id": "o8HFpwINB54L",
        "colab_type": "code",
        "colab": {}
      },
      "source": [
        "def reverse(arr):\n",
        "  curr_val = 0\n",
        "  arr_sum = 0\n",
        "  n = len(arr)\n",
        "  for i in range(n):\n",
        "    arr_sum += arr[i]\n",
        "    cur_val += i*arr[i]\n",
        "\n",
        "    max_val = curr_val\n",
        "  for j in range(-2,-1,-1):\n",
        "    curr_val += arrsum - n*arr[n-j]\n",
        "    if curr_val>max_val:\n",
        "      max_val = curr_val\n",
        "  return max_val"
      ],
      "execution_count": 32,
      "outputs": []
    },
    {
      "cell_type": "code",
      "metadata": {
        "id": "w-lYARAWCxlk",
        "colab_type": "code",
        "colab": {
          "base_uri": "https://localhost:8080/",
          "height": 34
        },
        "outputId": "3097a289-7088-41ab-b15b-61981a135b4e"
      },
      "source": [
        "arr = [3, 2, 1] \n",
        "max(arr) "
      ],
      "execution_count": 35,
      "outputs": [
        {
          "output_type": "execute_result",
          "data": {
            "text/plain": [
              "7"
            ]
          },
          "metadata": {
            "tags": []
          },
          "execution_count": 35
        }
      ]
    },
    {
      "cell_type": "code",
      "metadata": {
        "id": "K79rUaOIOrZi",
        "colab_type": "code",
        "colab": {
          "base_uri": "https://localhost:8080/",
          "height": 34
        },
        "outputId": "e2e7e24a-bd8e-4d27-b887-31fbfc83362f"
      },
      "source": [
        "def min(arr,l,h):\n",
        "  min_index = 0\n",
        "  min = arr[0]\n",
        "  for i in range(len(arr)):\n",
        "    if arr[i] < min:\n",
        "      min = arr[i]\n",
        "      min_index = i\n",
        "  return min_index\n",
        "arr = [15, 18, 2, 3, 6, 12]\n",
        "min(arr,0,n-1)"
      ],
      "execution_count": 40,
      "outputs": [
        {
          "output_type": "execute_result",
          "data": {
            "text/plain": [
              "2"
            ]
          },
          "metadata": {
            "tags": []
          },
          "execution_count": 40
        }
      ]
    },
    {
      "cell_type": "code",
      "metadata": {
        "id": "8fAWlNVzPgNE",
        "colab_type": "code",
        "colab": {}
      },
      "source": [
        "def binary_search(arr,l,h):\n",
        "  if h<l:\n",
        "    return 0\n",
        "  if h == l:\n",
        "    return l\n",
        "\n",
        "  mid  = (h+l)//2\n",
        "\n",
        "  if mid<h and arr[mid+1] < arr[mid]:\n",
        "    return mid+1\n",
        "  if mid>l and arr[mid-1] > arr[mid]:\n",
        "    return mid\n",
        "  else:\n",
        "    if arr[h]>arr[mid]:\n",
        "      return binary_search(arr,l,mid-1)\n",
        "    return binary_search(arr,mid+1,h)\n"
      ],
      "execution_count": 41,
      "outputs": []
    },
    {
      "cell_type": "code",
      "metadata": {
        "id": "q6vvfs2eRz3j",
        "colab_type": "code",
        "colab": {
          "base_uri": "https://localhost:8080/",
          "height": 34
        },
        "outputId": "a0de3ade-8a4e-494c-8b03-79079f037258"
      },
      "source": [
        "arr = [7, 9, 11, 12, 5] \n",
        "n = len(arr) \n",
        "print(binary_search(arr, 0, n-1))"
      ],
      "execution_count": 44,
      "outputs": [
        {
          "output_type": "stream",
          "text": [
            "4\n"
          ],
          "name": "stdout"
        }
      ]
    },
    {
      "cell_type": "code",
      "metadata": {
        "id": "SA393HQj0c-C",
        "colab_type": "code",
        "colab": {
          "base_uri": "https://localhost:8080/",
          "height": 85
        },
        "outputId": "ad618704-fdd5-4992-d6a3-c10c046224dd"
      },
      "source": [
        "def temp(arr,n):\n",
        "  temp_arr = [0] * (2*n)\n",
        "  for i in range(n):\n",
        "    temp_arr[i] = temp_arr[i+n] = arr[i]\n",
        "  return temp_arr\n",
        "\n",
        "def rotation(temp_arr,k):\n",
        "  start = k%n\n",
        "  for j in range(start,start+n):\n",
        "    print(temp_arr[j],end=\" \")\n",
        "  print(\"\") \n",
        "\n",
        "arr = [1, 3, 5, 7, 9]\n",
        "n = len(arr)\n",
        "k1 = 1\n",
        "k2 = 3\n",
        "k3 = 4\n",
        "k4 = 6\n",
        "\n",
        "\n",
        "temp_arr = temp(arr,n)\n",
        "rotation(temp_arr,k1)\n",
        "rotation(temp_arr,k2)\n",
        "rotation(temp_arr,k3)\n",
        "rotation(temp_arr,k4)"
      ],
      "execution_count": 56,
      "outputs": [
        {
          "output_type": "stream",
          "text": [
            "3 5 7 9 1 \n",
            "7 9 1 3 5 \n",
            "9 1 3 5 7 \n",
            "3 5 7 9 1 \n"
          ],
          "name": "stdout"
        }
      ]
    },
    {
      "cell_type": "code",
      "metadata": {
        "id": "VJS234My3CxS",
        "colab_type": "code",
        "colab": {
          "base_uri": "https://localhost:8080/",
          "height": 34
        },
        "outputId": "4188c6aa-25ea-4126-b663-e711f92ea465"
      },
      "source": [
        "def temp(arr,n):\n",
        "  temp_arr = [0] * (2*n)\n",
        "  for i in range(n):\n",
        "    temp_arr[i] = temp_arr[i+n] = arr[i]\n",
        "  return temp_arr\n",
        "\n",
        "def rotation(temp_arr,k):\n",
        "  end = len(temp_arr) - k\n",
        "  for j in range(n-k,end):\n",
        "    print(temp_arr[j],end=\" \")\n",
        "  print(\"\") \n",
        "\n",
        "arr = [1, 2, 3, 4, 5, 6, 7, 8, 9, 10]\n",
        "n = len(arr)\n",
        "k = 1\n",
        "\n",
        "temp_arr = temp(arr,n)\n",
        "rotation(temp_arr,k)"
      ],
      "execution_count": 86,
      "outputs": [
        {
          "output_type": "stream",
          "text": [
            "10 1 2 3 4 5 6 7 8 9 \n"
          ],
          "name": "stdout"
        }
      ]
    },
    {
      "cell_type": "code",
      "metadata": {
        "id": "7zrveg86FL0Z",
        "colab_type": "code",
        "colab": {
          "base_uri": "https://localhost:8080/",
          "height": 34
        },
        "outputId": "26827bd1-365a-4516-ef65-487c67de80b4"
      },
      "source": [
        "def hammer(arr,n):\n",
        "  temp = [0]*(2*n+1)\n",
        "  for i in range(n):\n",
        "    temp[i] = temp[n+i] = arr[i]\n",
        "  k = 0\n",
        " \n",
        "  for i in range(1,n):\n",
        "    curr_hammer = 0\n",
        "    max_hammer = 0\n",
        "    for j in range(i,i+n):\n",
        "      if temp[j] != arr[k]:\n",
        "        curr_hammer +=1\n",
        "        k += 1\n",
        "      if curr_hammer == n:\n",
        "        return n\n",
        "      \n",
        "  return max(max_hammer,curr_hammer)\n",
        "\n",
        "arr = [2, 4, 6, 8] \n",
        "n = len(arr) \n",
        "print(hammer(arr, n))"
      ],
      "execution_count": 85,
      "outputs": [
        {
          "output_type": "stream",
          "text": [
            "4\n"
          ],
          "name": "stdout"
        }
      ]
    },
    {
      "cell_type": "code",
      "metadata": {
        "id": "rcdkEZDcIHBy",
        "colab_type": "code",
        "colab": {
          "base_uri": "https://localhost:8080/",
          "height": 34
        },
        "outputId": "ea0d0bb5-31a3-4737-8c4f-2fc0f9db0053"
      },
      "source": [
        "left_array = []\n",
        "right_array = []\n",
        "\n",
        "def temp(arr,n):\n",
        "  temp_arr = [0] * (2*n)\n",
        "  for i in range(n):\n",
        "    temp_arr[i] = temp_arr[i+n] = arr[i]\n",
        "  return temp_arr\n",
        "\n",
        "def left_rotation(temp_arr2,k):\n",
        "  n2 = len(arr)\n",
        "  start = k%n2\n",
        "\n",
        "  for j in range(start,start+n2):\n",
        "    print(temp_arr2[j],end=\" \")\n",
        "\n",
        "def temp2(right_array,n2):\n",
        "  temp_arr2 = [0] * (2*n2)\n",
        "  for i in range(n2):\n",
        "    temp_arr2[i] = temp_arr2[i+n2] = right_array[i]\n",
        "  \n",
        "  return temp_arr2\n",
        "\n",
        "\n",
        "def right_rotation(temp_arr,k):\n",
        "  end = len(temp_arr) - k\n",
        "  for j in range(n-k,end):\n",
        "    right_array.append(temp_arr[j])\n",
        "  \n",
        "  return right_array\n",
        "\n",
        "def combine(temp,r,l):\n",
        "  a = right_rotation(temp,r)\n",
        "  n2 = len(right_array)\n",
        "  \n",
        "  c = temp2(right_array,n2)\n",
        "  b = left_rotation(c,l)\n",
        "  return b\n",
        "\n",
        "arr = [1, 2, 3, 4, 5] \n",
        "n = len(arr)\n",
        "\n",
        "\n",
        "temp = temp(arr, n)\n",
        "\n",
        "\n",
        "combine(temp,1,3)\n"
      ],
      "execution_count": 7,
      "outputs": [
        {
          "output_type": "stream",
          "text": [
            "3 4 5 1 2 "
          ],
          "name": "stdout"
        }
      ]
    },
    {
      "cell_type": "code",
      "metadata": {
        "id": "Ku2EYl2qMElJ",
        "colab_type": "code",
        "colab": {
          "base_uri": "https://localhost:8080/",
          "height": 68
        },
        "outputId": "769586e5-b74e-4357-fb5e-066f99b9e179"
      },
      "source": [
        "def rotate_nice(arr,n,k):\n",
        "  start = k%n\n",
        "  for i in range(n):\n",
        "    print(str(arr[ (start+i) % n]),end=\" \")\n",
        "  print(\"\")\n",
        "  return\n",
        "\n",
        "arr = [ 1, 3, 5, 7, 9 ] \n",
        "n = len(arr) \n",
        "k = 2\n",
        "rotate_nice(arr, n, k)\n",
        "\n",
        "k = 3\n",
        "rotate_nice(arr, n, k) \n",
        "  \n",
        "k = 4\n",
        "rotate_nice(arr, n, k) "
      ],
      "execution_count": 12,
      "outputs": [
        {
          "output_type": "stream",
          "text": [
            "5 7 9 1 3 \n",
            "7 9 1 3 5 \n",
            "9 1 3 5 7 \n"
          ],
          "name": "stdout"
        }
      ]
    },
    {
      "cell_type": "code",
      "metadata": {
        "id": "CRQp09v8VJj5",
        "colab_type": "code",
        "colab": {
          "base_uri": "https://localhost:8080/",
          "height": 34
        },
        "outputId": "473406a9-f016-466c-f7cf-dbff2e0fd740"
      },
      "source": [
        "def find(arr,ranges,index):\n",
        "  for i in range(rotations -1, -1, -1):\n",
        "    left = ranges[i][0]\n",
        "    right = ranges[i][1]\n",
        "    if index<=right and index >=left:\n",
        "      if left == index:\n",
        "        index = right \n",
        "      else:\n",
        "        index -=1\n",
        "  return arr[index]\n",
        "\n",
        "arr = [ 1, 2, 3, 4, 5 ] \n",
        "   \n",
        "rotations = 2\n",
        "\n",
        "ranges = [ [ 0, 2 ], [ 0, 3 ] ] \n",
        "  \n",
        "index = 1\n",
        "\n",
        "find(arr,ranges,index)"
      ],
      "execution_count": 16,
      "outputs": [
        {
          "output_type": "execute_result",
          "data": {
            "text/plain": [
              "3"
            ]
          },
          "metadata": {
            "tags": []
          },
          "execution_count": 16
        }
      ]
    },
    {
      "cell_type": "code",
      "metadata": {
        "id": "EcMnAQgmuS10",
        "colab_type": "code",
        "colab": {
          "base_uri": "https://localhost:8080/",
          "height": 34
        },
        "outputId": "829ae51b-744e-470f-9fc9-dbcf58d00563"
      },
      "source": [
        "def rotate(arr,n,k):\n",
        "  temp = [0]*(2*n)\n",
        "  for i in range(n):\n",
        "    temp[i] = temp[i+n] = arr[i]\n",
        "  for j in range(k,k+n):\n",
        "    print(temp[j],end=\" \")\n",
        "arr = [12, 10, 5, 6, 52, 36]\n",
        "n = len(arr)\n",
        "rotate(arr,n,2)"
      ],
      "execution_count": 6,
      "outputs": [
        {
          "output_type": "stream",
          "text": [
            "5 6 52 36 12 10 "
          ],
          "name": "stdout"
        }
      ]
    },
    {
      "cell_type": "code",
      "metadata": {
        "id": "afCASIm92SHj",
        "colab_type": "code",
        "colab": {
          "base_uri": "https://localhost:8080/",
          "height": 34
        },
        "outputId": "5e91eb2d-1cfa-4f54-b691-1e523471fdaf"
      },
      "source": [
        "def reverse(arr,n):\n",
        "  for i in range(n-1,-1,-1):\n",
        "    print(arr[i],end = ' ')\n",
        "reverse([4, 5, 1, 2],4)"
      ],
      "execution_count": 11,
      "outputs": [
        {
          "output_type": "stream",
          "text": [
            "2 1 5 4 "
          ],
          "name": "stdout"
        }
      ]
    },
    {
      "cell_type": "code",
      "metadata": {
        "id": "j7YRIRcB4ps4",
        "colab_type": "code",
        "colab": {
          "base_uri": "https://localhost:8080/",
          "height": 34
        },
        "outputId": "9e574dc5-9b4f-423a-b0a1-0bfa1d0423e0"
      },
      "source": [
        "def reverse(arr,start,end):\n",
        "  if start>=end:\n",
        "    return\n",
        "  arr[start],arr[end] = arr[end],arr[start]\n",
        "  reverse(arr,start+1,end-1)\n",
        "arr = [4, 5, 1, 2]\n",
        "reverse(arr,0,3)\n",
        "print(arr)"
      ],
      "execution_count": 20,
      "outputs": [
        {
          "output_type": "stream",
          "text": [
            "[2, 1, 5, 4]\n"
          ],
          "name": "stdout"
        }
      ]
    },
    {
      "cell_type": "code",
      "metadata": {
        "id": "TtzMuv1q7LDm",
        "colab_type": "code",
        "colab": {
          "base_uri": "https://localhost:8080/",
          "height": 34
        },
        "outputId": "d10c610e-d2bc-46b8-f8b0-4484b75af595"
      },
      "source": [
        "def rearrange(arr, n):\n",
        "  temp = sorted(arr)\n",
        "  even = int(n/2)\n",
        "  odd = n-even\n",
        "  j = odd-1\n",
        "\n",
        "#fill odd positions\n",
        "  for i in range(0,n,2):\n",
        "    arr[i] = temp[j]\n",
        "    j = j-1\n",
        "\n",
        "  j = odd\n",
        "\n",
        "#fill odd positions \n",
        "  for i in range(1,n,2):\n",
        "    arr[i] = temp[j]\n",
        "    j = j+1\n",
        "\n",
        "  return arr\n",
        "arr = [1,3,2]\n",
        "n = len(arr)\n",
        "rearrange(arr,n)\n"
      ],
      "execution_count": 12,
      "outputs": [
        {
          "output_type": "execute_result",
          "data": {
            "text/plain": [
              "[2, 3, 1]"
            ]
          },
          "metadata": {
            "tags": []
          },
          "execution_count": 12
        }
      ]
    },
    {
      "cell_type": "code",
      "metadata": {
        "id": "kNhhkxplIoRY",
        "colab_type": "code",
        "colab": {
          "base_uri": "https://localhost:8080/",
          "height": 51
        },
        "outputId": "d09336c5-dfc4-40a7-8ded-c2228cbebb51"
      },
      "source": [
        "arr = [1, 2, 3, -4, -1, 4]\n",
        "n = len(arr)\n",
        "\n",
        "i = -1\n",
        "for j in range(n): \n",
        "  if (arr[j] < 0): \n",
        "    i += 1\n",
        "            # swapping of arr \n",
        "    arr[i], arr[j] = arr[j], arr[i]\n",
        "print(arr)"
      ],
      "execution_count": 24,
      "outputs": [
        {
          "output_type": "stream",
          "text": [
            "[-4, -1, 3, 1, 2, 4]\n",
            "2\n"
          ],
          "name": "stdout"
        }
      ]
    },
    {
      "cell_type": "code",
      "metadata": {
        "id": "_Drv5IbVMqdO",
        "colab_type": "code",
        "colab": {
          "base_uri": "https://localhost:8080/",
          "height": 34
        },
        "outputId": "59ed23ef-d428-41e3-af22-30e785189bdc"
      },
      "source": [
        "def alt(arr,n):\n",
        "  i = -1\n",
        "  for j in range(0,n):\n",
        "    if (arr[j]<0):\n",
        "      i = i+1\n",
        "      arr[i], arr[j] = arr[j], arr[i]\n",
        "  pos = i+1\n",
        "  neg = 0\n",
        "  while(pos<n and neg<pos and arr[neg]<0):\n",
        "    arr[neg], arr[pos] = arr[pos], arr[neg]\n",
        "    pos+=1\n",
        "    neg+=2\n",
        "  return arr\n",
        "\n",
        "arr = [-1, 2, -3, 4, 5, 6, -7, 8, 9] \n",
        "n = len(arr)\n",
        "alt(arr,n)"
      ],
      "execution_count": 19,
      "outputs": [
        {
          "output_type": "execute_result",
          "data": {
            "text/plain": [
              "[4, -3, 5, -1, 6, -7, 2, 8, 9]"
            ]
          },
          "metadata": {
            "tags": []
          },
          "execution_count": 19
        }
      ]
    },
    {
      "cell_type": "code",
      "metadata": {
        "id": "Owlq4LUrjGGB",
        "colab_type": "code",
        "colab": {
          "base_uri": "https://localhost:8080/",
          "height": 34
        },
        "outputId": "e1e71ce6-77ca-49d4-870b-c8457a48aa20"
      },
      "source": [
        "def right_rotate(arr,n,outplace,i):\n",
        "  temp = arr[i]\n",
        "  for i in range(i,outplace,-1):\n",
        "    arr[i] = arr[i-1]\n",
        "  arr[outplace] = temp\n",
        "  return arr\n",
        "\n",
        "\n",
        "def alt2(arr,n):\n",
        "  outplace = -1\n",
        "  for i in range(n):\n",
        "\n",
        "    if outplace >=0:\n",
        "      if (arr[i]>=0 and arr[outplace]<0) |  (arr[i]<0 and arr[outplace]>=0):\n",
        "        right_rotate(arr,n,outplace,i)\n",
        "        if (i - outplace) > 2:\n",
        "          outplace +=2\n",
        "        else:\n",
        "          outplace =- 1 \n",
        "\n",
        "    if outplace == -1:\n",
        "      if (arr[i] >=0 and i%2==0) | (arr[i]<0 and i%2==1):\n",
        "        outplace = i\n",
        "  return arr\n",
        "\n",
        "arr = [-5, -2, 5, 2, 4,  \n",
        "        7, 1, 8, 0, -8]\n",
        "\n",
        "n = len(arr)\n",
        "alt2(arr,n)"
      ],
      "execution_count": 15,
      "outputs": [
        {
          "output_type": "execute_result",
          "data": {
            "text/plain": [
              "[-5, 5, -2, 2, -8, 4, 7, 1, 8, 0]"
            ]
          },
          "metadata": {
            "tags": []
          },
          "execution_count": 15
        }
      ]
    },
    {
      "cell_type": "code",
      "metadata": {
        "id": "Wj7OOr1WpSdy",
        "colab_type": "code",
        "colab": {
          "base_uri": "https://localhost:8080/",
          "height": 34
        },
        "outputId": "b806d7af-48d2-4705-c1ab-769e6eb49cbb"
      },
      "source": [
        "def zero(arr,n):\n",
        "  sorted_arr = sorted(arr)\n",
        "  ans = []\n",
        "  for i in arr:\n",
        "    if i!=0:\n",
        "      ans.append(i)\n",
        "  for j in sorted_arr:\n",
        "    if j == 0:\n",
        "      ans.append(j)\n",
        "  return ans\n",
        "\n",
        "arr= [1, 2, 0, 0, 0, 3, 6]\n",
        "n = len(arr)\n",
        "zero(arr,n)"
      ],
      "execution_count": 2,
      "outputs": [
        {
          "output_type": "execute_result",
          "data": {
            "text/plain": [
              "[1, 2, 3, 6, 0, 0, 0]"
            ]
          },
          "metadata": {
            "tags": []
          },
          "execution_count": 2
        }
      ]
    },
    {
      "cell_type": "code",
      "metadata": {
        "id": "NM3GXHUbqx53",
        "colab_type": "code",
        "colab": {
          "base_uri": "https://localhost:8080/",
          "height": 34
        },
        "outputId": "1a2ab14a-5565-40fc-8cac-75c777174738"
      },
      "source": [
        "def zero_effective(arr,n):\n",
        "  count = 0\n",
        "  for i in range(n):\n",
        "    if arr[i]!=0:\n",
        "      arr[count] = arr[i]\n",
        "      count +=1\n",
        "  while(count<n):\n",
        "    arr[count] = 0\n",
        "    count +=1\n",
        "  return arr\n",
        "\n",
        "\n",
        "arr= [1, 2, 0, 0, 0, 3, 6]\n",
        "n = len(arr)\n",
        "zero_effective(arr,n)"
      ],
      "execution_count": 4,
      "outputs": [
        {
          "output_type": "execute_result",
          "data": {
            "text/plain": [
              "[1, 2, 3, 6, 0, 0, 0]"
            ]
          },
          "metadata": {
            "tags": []
          },
          "execution_count": 4
        }
      ]
    },
    {
      "cell_type": "code",
      "metadata": {
        "id": "9OXdmgilrbS2",
        "colab_type": "code",
        "colab": {
          "base_uri": "https://localhost:8080/",
          "height": 34
        },
        "outputId": "ad042783-ccbc-45d8-92a5-504660d2339e"
      },
      "source": [
        "def zero_single(arr,n):\n",
        "  count = 0\n",
        "  for i in range(n):\n",
        "    if arr[i]!=0:\n",
        "      arr[count], arr[i] = arr[i], arr[count]\n",
        "      count +=1\n",
        "  return arr\n",
        "\n",
        "arr= [1, 2, 0, 0, 0, 3, 6]\n",
        "n = len(arr)\n",
        "zero_single(arr,n)"
      ],
      "execution_count": 7,
      "outputs": [
        {
          "output_type": "execute_result",
          "data": {
            "text/plain": [
              "[1, 2, 3, 6, 0, 0, 0]"
            ]
          },
          "metadata": {
            "tags": []
          },
          "execution_count": 7
        }
      ]
    },
    {
      "cell_type": "code",
      "metadata": {
        "id": "GTgPRuXPu__h",
        "colab_type": "code",
        "colab": {}
      },
      "source": [
        "def small(arr,n,k):\n",
        "  count = 0\n",
        "  ans = 0\n",
        "  for i in range(n):\n",
        "    if arr[i]<=k:\n",
        "      count+=1\n",
        "  for j in range(count):\n",
        "    if arr[j]>k:\n",
        "      for l in range(j,n):\n",
        "        if arr[l]<k:\n",
        "          arr[j], arr[l] = arr[l], arr[j]\n",
        "          ans +=1\n",
        "          break\n",
        "        else:\n",
        "          if arr[l]==k:\n",
        "            arr[j], arr[l] = arr[l], arr[j]\n",
        "            ans += 1\n",
        "            break\n",
        "  return ans"
      ],
      "execution_count": 2,
      "outputs": []
    },
    {
      "cell_type": "code",
      "metadata": {
        "id": "nJunJXcj08jZ",
        "colab_type": "code",
        "colab": {
          "base_uri": "https://localhost:8080/",
          "height": 51
        },
        "outputId": "919057fb-dd39-4a4c-94b4-505d5fb76129"
      },
      "source": [
        "arr = [2, 7, 9, 5, 8, 7, 4]\n",
        "arr2 = [2, 1, 5, 6, 3]\n",
        "n = len(arr)\n",
        "n2 = len(arr2)\n",
        "k2 = 3\n",
        "k = 5\n",
        "ans1 = small(arr,n,k)\n",
        "ans2 = small(arr2,n2,k2)\n",
        "print(ans1)\n",
        "print(ans2)"
      ],
      "execution_count": 7,
      "outputs": [
        {
          "output_type": "stream",
          "text": [
            "2\n",
            "1\n"
          ],
          "name": "stdout"
        }
      ]
    },
    {
      "cell_type": "code",
      "metadata": {
        "id": "A_PBwWrNKCmb",
        "colab_type": "code",
        "colab": {
          "base_uri": "https://localhost:8080/",
          "height": 34
        },
        "outputId": "2a9d57be-58cf-417b-fcc8-17c0552850e6"
      },
      "source": [
        "def neg_pos(arr,n):\n",
        "  j = 0\n",
        "  for i in range(n):\n",
        "    if arr[i]<0:\n",
        "      arr[j], arr[i] = arr[i],arr[j]\n",
        "      j = j+1\n",
        "  return arr\n",
        "\n",
        "arr = [12, 11, -13, -5, 6, -7, 5, -3, -6]\n",
        "n = len(arr)\n",
        "neg_pos(arr,n)"
      ],
      "execution_count": 8,
      "outputs": [
        {
          "output_type": "execute_result",
          "data": {
            "text/plain": [
              "[-13, -5, -7, -3, -6, 12, 5, 11, 6]"
            ]
          },
          "metadata": {
            "tags": []
          },
          "execution_count": 8
        }
      ]
    },
    {
      "cell_type": "code",
      "metadata": {
        "id": "nSxOvOuOrAK9",
        "colab_type": "code",
        "colab": {
          "base_uri": "https://localhost:8080/",
          "height": 34
        },
        "outputId": "10fc072b-57e7-44c7-81fd-f0b6411c111a"
      },
      "source": [
        "# Python3 code to rearrange the \n",
        "# elements in array such that \n",
        "# even positioned are greater \n",
        "# than odd positioned elements \n",
        "\n",
        "def assign(a, n): \n",
        "\t\n",
        "\t# Sort the array \n",
        "\ta.sort() \n",
        "\t\n",
        "\tans = [0] * n \n",
        "\tp = 0\n",
        "\tq = n - 1\n",
        "\tfor i in range(n): \n",
        "\t\t\n",
        "\t\t# Assign even indexes with \n",
        "\t\t# maximum elements \n",
        "\t\tif (i + 1) % 2 == 0: \n",
        "\t\t\tans[i] = a[q] \n",
        "\t\t\tq = q - 1\n",
        "\t\t\n",
        "\t\t# Assign odd indexes with \n",
        "\t\t# remaining elements \n",
        "\t\telse: \n",
        "\t\t\tans[i] = a[p] \n",
        "\t\t\tp = p + 1\n",
        "\t\t\t\n",
        "\t# Print result \n",
        "\tfor i in range(n): \n",
        "\t\tprint(ans[i], end = \" \") \n",
        "\n",
        "# Driver Code \n",
        "A = [ 1, 2, 2, 1 ] \n",
        "n = len(A) \n",
        "assign(A, n) \n",
        "\n",
        "# This code is contributed by \"Sharad_Bhardwaj\". \n"
      ],
      "execution_count": 9,
      "outputs": [
        {
          "output_type": "stream",
          "text": [
            "1 2 1 2 "
          ],
          "name": "stdout"
        }
      ]
    },
    {
      "cell_type": "code",
      "metadata": {
        "id": "94ynBb_3s3Np",
        "colab_type": "code",
        "colab": {
          "base_uri": "https://localhost:8080/",
          "height": 34
        },
        "outputId": "dc6debc0-6c6e-4827-a3b9-b73a2786f890"
      },
      "source": [
        "def swap(arr,n):\n",
        "  arr.sort()\n",
        "  p = 0\n",
        "  q = n-1\n",
        "  temp = [0]*n\n",
        "\n",
        "  for i in range(n):\n",
        "    if (i+1)%2==0:\n",
        "      temp[i] = arr[q]\n",
        "      q = q-1\n",
        "    else:\n",
        "      temp[i] = arr[p]\n",
        "      p = p+1\n",
        "\n",
        "  return temp\n",
        "arr = [1, 2, 2, 1]\n",
        "n = len(arr)\n",
        "swap(arr,n)"
      ],
      "execution_count": 11,
      "outputs": [
        {
          "output_type": "execute_result",
          "data": {
            "text/plain": [
              "[1, 2, 1, 2]"
            ]
          },
          "metadata": {
            "tags": []
          },
          "execution_count": 11
        }
      ]
    },
    {
      "cell_type": "code",
      "metadata": {
        "id": "7_7_u78vuCs9",
        "colab_type": "code",
        "colab": {
          "base_uri": "https://localhost:8080/",
          "height": 34
        },
        "outputId": "25d512bd-4e44-4622-865b-080d060acde4"
      },
      "source": [
        "def swap2(arr,n):\n",
        "\n",
        "  #even index and value must be greater than the previous value\n",
        "  for i in range(1,n):\n",
        "    if i%2==0 and arr[i] > arr[i-1]:\n",
        "      arr[i], arr[i-1] = arr[i-1], arr[i]\n",
        "  #odd index and value must be less than the previous value\n",
        "    else:\n",
        "      if i%2!=0 and arr[i] < arr[i-1]:\n",
        "        arr[i], arr[i-1] = arr[i-1], arr[i]\n",
        "  return arr\n",
        "\n",
        "arr2 = [1, 3, 2]\n",
        "n = len(arr2)\n",
        "swap2(arr2,n)"
      ],
      "execution_count": 15,
      "outputs": [
        {
          "output_type": "execute_result",
          "data": {
            "text/plain": [
              "[1, 3, 2]"
            ]
          },
          "metadata": {
            "tags": []
          },
          "execution_count": 15
        }
      ]
    },
    {
      "cell_type": "code",
      "metadata": {
        "id": "72yMT_U-wKsN",
        "colab_type": "code",
        "colab": {
          "base_uri": "https://localhost:8080/",
          "height": 51
        },
        "outputId": "cdf7c8ff-4a65-4c31-dae6-c87c7acf59df"
      },
      "source": [
        "def max_min_rearrange(arr,n):\n",
        "  a = sorted(arr)\n",
        "  temp = [0]*n\n",
        "  p = 0\n",
        "  q = n-1\n",
        "  for i in range(n):\n",
        "    if i%2==0:\n",
        "      temp[i] = a[p]\n",
        "      p = p+1\n",
        "    else:\n",
        "      temp[i] = a[q]\n",
        "      q = q-1\n",
        "  return temp\n",
        "\n",
        "arr = [5, 8, 1, 4, 2, 9, 3, 7, 6]\n",
        "arr2 = [1, 2, 3, 4]\n",
        "n = len(arr)\n",
        "n2 = len(arr2)\n",
        "print(max_min_rearrange(arr,n))\n",
        "print(max_min_rearrange(arr2,n2))"
      ],
      "execution_count": 20,
      "outputs": [
        {
          "output_type": "stream",
          "text": [
            "[1, 9, 2, 8, 3, 7, 4, 6, 5]\n",
            "[1, 4, 2, 3]\n"
          ],
          "name": "stdout"
        }
      ]
    },
    {
      "cell_type": "code",
      "metadata": {
        "id": "ysx-9344x-By",
        "colab_type": "code",
        "colab": {
          "base_uri": "https://localhost:8080/",
          "height": 34
        },
        "outputId": "0ca67b09-4fdf-47a1-c9db-28bdc0e8f5ec"
      },
      "source": [
        "def double(arr,n):\n",
        "  for i in range(n):\n",
        "    if arr[i] == arr[i-1]:\n",
        "      arr[i-1] = arr[i-1]*2\n",
        "      arr[i] = 0\n",
        "\n",
        "  count = 0\n",
        "  for j in range(n):\n",
        "    if arr[j]!=0:\n",
        "      arr[count] = arr[j]\n",
        "      count +=1\n",
        "  while(count<n):\n",
        "    arr[count] = 0\n",
        "    count +=1\n",
        "  return arr\n",
        "\n",
        "\n",
        "arr = [0, 2, 2, 2, 0, 6, 6, 0, 0, 8]\n",
        "n = len(arr)\n",
        "double(arr,n)"
      ],
      "execution_count": 24,
      "outputs": [
        {
          "output_type": "execute_result",
          "data": {
            "text/plain": [
              "[4, 2, 12, 8, 0, 0, 0, 0, 0, 0]"
            ]
          },
          "metadata": {
            "tags": []
          },
          "execution_count": 24
        }
      ]
    },
    {
      "cell_type": "code",
      "metadata": {
        "id": "s_z5DhUU7EDL",
        "colab_type": "code",
        "colab": {
          "base_uri": "https://localhost:8080/",
          "height": 34
        },
        "outputId": "9ffeeec4-e8bc-4e19-c28d-5e12a3874858"
      },
      "source": [
        "def reorder_indices(arr,index,n):\n",
        "  count = 0\n",
        "  temp = [0]*n\n",
        "  for i in index:\n",
        "    temp[count] = arr[i]\n",
        "    count += 1\n",
        "  return temp\n",
        "\n",
        "arr = [10, 11, 12]\n",
        "index = [1, 0, 2]\n",
        "n = len(arr)\n",
        "reorder_indices(arr,index,n)"
      ],
      "execution_count": 31,
      "outputs": [
        {
          "output_type": "execute_result",
          "data": {
            "text/plain": [
              "[11, 10, 12]"
            ]
          },
          "metadata": {
            "tags": []
          },
          "execution_count": 31
        }
      ]
    },
    {
      "cell_type": "code",
      "metadata": {
        "id": "3NOF5vbDl6Lc",
        "colab_type": "code",
        "colab": {
          "base_uri": "https://localhost:8080/",
          "height": 34
        },
        "outputId": "1fdfdaed-15dc-4534-d003-7999d242a5ff"
      },
      "source": [
        "def insertion_sort(arr,n):\n",
        "  for i in range(1,n):\n",
        "    current_element = arr[i]\n",
        "    pos = i\n",
        "    while(pos>0 and current_element<arr[pos-1]):\n",
        "      arr[pos] = arr[pos-1]\n",
        "      pos = pos-1\n",
        "    \n",
        "    arr[pos] = current_element\n",
        "  return arr\n",
        "arr = [4,2,1,5]\n",
        "n = len(arr)\n",
        "\n",
        "insertion_sort(arr,n)"
      ],
      "execution_count": 33,
      "outputs": [
        {
          "output_type": "execute_result",
          "data": {
            "text/plain": [
              "[1, 2, 4, 5]"
            ]
          },
          "metadata": {
            "tags": []
          },
          "execution_count": 33
        }
      ]
    },
    {
      "cell_type": "code",
      "metadata": {
        "id": "MlH4E1NLqpsn",
        "colab_type": "code",
        "colab": {
          "base_uri": "https://localhost:8080/",
          "height": 34
        },
        "outputId": "2dde31d5-70b2-4f9a-ef41-b0cedeb7e97e"
      },
      "source": [
        "def negative_insert(arr,n):\n",
        "  for i in range(1,n):\n",
        "    curr_elem = arr[i]\n",
        "\n",
        "    j = i -1\n",
        "    if curr_elem > 0:\n",
        "      continue\n",
        "\n",
        "    while(j>=0 and arr[j]>0):\n",
        "      arr[j+1] = arr[j]\n",
        "      j = j-1\n",
        "    arr[j+1] = curr_elem\n",
        "  return arr\n",
        "\n",
        "arr = [12 ,11, -13, -5, 6, -7, 5, -3, -6]\n",
        "n = len(arr)\n",
        "negative_insert(arr,n)"
      ],
      "execution_count": 36,
      "outputs": [
        {
          "output_type": "execute_result",
          "data": {
            "text/plain": [
              "[-13, -5, -7, -3, -6, 12, 11, 6, 5]"
            ]
          },
          "metadata": {
            "tags": []
          },
          "execution_count": 36
        }
      ]
    },
    {
      "cell_type": "code",
      "metadata": {
        "id": "f-pY8_fIuoD6",
        "colab_type": "code",
        "colab": {
          "base_uri": "https://localhost:8080/",
          "height": 51
        },
        "outputId": "f251f319-f31f-4ce6-b11a-43dda6a7619f"
      },
      "source": [
        "arr = [54, 546, 548, 60]\n",
        "arr2 = []\n",
        "b = sorted(arr)\n",
        "for i in range(len(b)-1,-1,-1):\n",
        "  arr2.append(str(b[i]))\n",
        "\n",
        "new = ''.join(arr2)\n",
        "print(new)\n",
        "print(arr2)"
      ],
      "execution_count": 52,
      "outputs": [
        {
          "output_type": "stream",
          "text": [
            "5485466054\n",
            "['548', '546', '60', '54']\n"
          ],
          "name": "stdout"
        }
      ]
    },
    {
      "cell_type": "code",
      "metadata": {
        "id": "sIvZC-02OeHL",
        "colab_type": "code",
        "colab": {
          "base_uri": "https://localhost:8080/",
          "height": 34
        },
        "outputId": "0dd34344-7706-43af-cdd7-926270d3cc22"
      },
      "source": [
        "def change(arr,n):\n",
        "  temp = [0]*n\n",
        "  for i in range(n):\n",
        "    temp[arr[i]] = i\n",
        "  return temp\n",
        "arr = [2, 0, 1, 4, 5, 3]\n",
        "n = len(arr)\n",
        "change(arr,n)\n"
      ],
      "execution_count": 16,
      "outputs": [
        {
          "output_type": "execute_result",
          "data": {
            "text/plain": [
              "[1, 2, 0, 5, 3, 4]"
            ]
          },
          "metadata": {
            "tags": []
          },
          "execution_count": 16
        }
      ]
    },
    {
      "cell_type": "code",
      "metadata": {
        "id": "jtyC6bbDFDyu",
        "colab_type": "code",
        "colab": {
          "base_uri": "https://localhost:8080/",
          "height": 34
        },
        "outputId": "8ad3a379-8a1c-48e6-d402-ef37fe0be6be"
      },
      "source": [
        "def max_min_arrange(arr,n):\n",
        "  temp = [0]*n\n",
        "  flag = True\n",
        "  large = n-1\n",
        "  small = 0\n",
        "  for i in range(0,n):\n",
        "    if flag is True:\n",
        "      temp[i] = arr[large]\n",
        "      large -= 1 \n",
        "    else:\n",
        "      temp[i] = arr[small]\n",
        "      small +=1\n",
        "    flag = bool(1-flag)\n",
        "  return temp\n",
        "\n",
        "arr = [1,2,3,4,5,6]\n",
        "n = len(arr)\n",
        "max_min_arrange(arr,n)"
      ],
      "execution_count": 8,
      "outputs": [
        {
          "output_type": "execute_result",
          "data": {
            "text/plain": [
              "[6, 1, 5, 2, 4, 3]"
            ]
          },
          "metadata": {
            "tags": []
          },
          "execution_count": 8
        }
      ]
    },
    {
      "cell_type": "code",
      "metadata": {
        "id": "S-NqoXpUQKdh",
        "colab_type": "code",
        "colab": {
          "base_uri": "https://localhost:8080/",
          "height": 34
        },
        "outputId": "a06594ea-8970-4feb-fc7d-11e4e95e8321"
      },
      "source": [
        "def max_min_efficient(arr,n):\n",
        "  max_index = n-1\n",
        "  min_index = 0\n",
        "  max_element = arr[n-1] + 1\n",
        "  for i in range(0,n):\n",
        "    if i%2==0:\n",
        "      arr[i] += (arr[max_index] % max_element)*max_element\n",
        "      max_index -= 1\n",
        "    else:\n",
        "      arr[i] += (arr[min_index] % max_element)*max_element\n",
        "      min_index +=1\n",
        "  for i in range(0, n) : \n",
        "        arr[i] = arr[i] // max_element\n",
        "  return arr\n",
        "\n",
        "arr = [1,2,3,4,5,6,7]\n",
        "n = len(arr)\n",
        "max_min_efficient(arr,n)"
      ],
      "execution_count": 20,
      "outputs": [
        {
          "output_type": "execute_result",
          "data": {
            "text/plain": [
              "[7, 1, 6, 2, 5, 3, 4]"
            ]
          },
          "metadata": {
            "tags": []
          },
          "execution_count": 20
        }
      ]
    },
    {
      "cell_type": "code",
      "metadata": {
        "id": "65e9a4Licn3m",
        "colab_type": "code",
        "colab": {
          "base_uri": "https://localhost:8080/",
          "height": 34
        },
        "outputId": "053eaa3a-59e8-44f4-ce5e-ccb809f5241e"
      },
      "source": [
        "def even_odd(arr,n):\n",
        "  \n",
        "  for i in range(1,n):\n",
        "    if i%2==0:\n",
        "      if arr[i]>arr[i-1]:\n",
        "        arr[i-1],arr[i] = arr[i],arr[i-1]\n",
        "    else:\n",
        "      if arr[i]<arr[i-1]:\n",
        "        arr[i-1],arr[i] = arr[i], arr[i-1]\n",
        "  return arr\n",
        "arr = [6, 4, 2, 1, 8, 3]\n",
        "n = len(arr)\n",
        "even_odd(arr,n)"
      ],
      "execution_count": 32,
      "outputs": [
        {
          "output_type": "execute_result",
          "data": {
            "text/plain": [
              "[4, 6, 1, 8, 2, 3]"
            ]
          },
          "metadata": {
            "tags": []
          },
          "execution_count": 32
        }
      ]
    },
    {
      "cell_type": "code",
      "metadata": {
        "id": "J3FC4a8rkMBS",
        "colab_type": "code",
        "colab": {
          "base_uri": "https://localhost:8080/",
          "height": 68
        },
        "outputId": "f6c380bb-0700-4651-b183-e38382e51556"
      },
      "source": [
        "#code vita 2020 - 1\n",
        "a = list(map(int,input().split()))\n",
        "k = a[1]\n",
        "arr = list(map(int,input().split()))\n",
        "\n",
        "def operation(arr,n,k):\n",
        "  sum = 0\n",
        "  max_value = max(arr)\n",
        "  for j in range(k):\n",
        "    for i in range(n):\n",
        "      if arr[i] == max_value:\n",
        "        c = i\n",
        "    new = max_value//2\n",
        "    arr[c] = new\n",
        "    max_value = max(arr)\n",
        "  for i in arr:\n",
        "    sum += i\n",
        "  return sum\n",
        "\n",
        "\n",
        "n = len(arr)\n",
        "k = 3\n",
        "operation(arr,n,k)"
      ],
      "execution_count": 13,
      "outputs": [
        {
          "output_type": "stream",
          "text": [
            "4 3\n",
            "20 7 5 4\n"
          ],
          "name": "stdout"
        },
        {
          "output_type": "execute_result",
          "data": {
            "text/plain": [
              "17"
            ]
          },
          "metadata": {
            "tags": []
          },
          "execution_count": 13
        }
      ]
    },
    {
      "cell_type": "code",
      "metadata": {
        "id": "hr6dzNaQENhM",
        "colab_type": "code",
        "colab": {
          "base_uri": "https://localhost:8080/",
          "height": 51
        },
        "outputId": "44740616-d286-40fb-81d9-3821547fcf33"
      },
      "source": [
        "#code vita 2020 - 2\n",
        "def find(d,p):\n",
        "  k = d//p\n",
        "  n = k\n",
        "  count = 0\n",
        "  res = 0\n",
        "  while n>1:\n",
        "    count = 0\n",
        "    for i in range(0,p):\n",
        "      pair_element = (i*k) + n\n",
        "      # print(i,k,pair_element)\n",
        "      if prime(int(pair_element)) and pair_element<=d:\n",
        "        count += 1\n",
        "      \n",
        "    if count == p:\n",
        "      res +=1\n",
        "\n",
        "    n -=1\n",
        "  return res\n",
        "    \n",
        "def prime(a):\n",
        "  flag = 0\n",
        "  if a<=1:\n",
        "    return False\n",
        "  if a<=3:\n",
        "    return True\n",
        "  for i in range(2,a):\n",
        "    if a%i == 0:\n",
        "      flag = 1\n",
        "  if flag == 1:\n",
        "    return False\n",
        "  else:\n",
        "    return True\n",
        "\n",
        "d,p =  map(int,input().split())\n",
        "find(d,p)"
      ],
      "execution_count": 5,
      "outputs": [
        {
          "output_type": "stream",
          "text": [
            "24 2\n"
          ],
          "name": "stdout"
        },
        {
          "output_type": "execute_result",
          "data": {
            "text/plain": [
              "3"
            ]
          },
          "metadata": {
            "tags": []
          },
          "execution_count": 5
        }
      ]
    },
    {
      "cell_type": "code",
      "metadata": {
        "id": "6SLXSv_iyXFq",
        "colab_type": "code",
        "colab": {
          "base_uri": "https://localhost:8080/",
          "height": 68
        },
        "outputId": "553358cd-d55c-435b-a310-ae1f0dc8a71f"
      },
      "source": [
        "#code vita 2020 - 3\n",
        "def max_sum(arr,n):\n",
        "  sum = 0\n",
        "  i = n - 1\n",
        "  if n>2:\n",
        "\n",
        "    while(i>1):\n",
        "      sum += arr[i-1]*arr[n-1] + arr[i-2]\n",
        "      arr.remove(arr[i-1])\n",
        "      i -= 1\n",
        "      n -= 1\n",
        "      \n",
        "  if n == 2:\n",
        "    sum += arr[1] * arr[0]\n",
        "    arr.remove(arr[0])\n",
        "    n -= 1\n",
        " \n",
        "  if n == 1:\n",
        "    sum += arr[0]\n",
        "  \n",
        "  max = sum\n",
        "  return max\n",
        "\n",
        "n = int(input())\n",
        "arr = list(map(int,input().split()))\n",
        "arr2 = sorted(arr)\n",
        "max_sum(arr2,n)"
      ],
      "execution_count": 27,
      "outputs": [
        {
          "output_type": "stream",
          "text": [
            "7\n",
            "1 2 3 6 7 3 4\n"
          ],
          "name": "stdout"
        },
        {
          "output_type": "execute_result",
          "data": {
            "text/plain": [
              "153"
            ]
          },
          "metadata": {
            "tags": []
          },
          "execution_count": 27
        }
      ]
    },
    {
      "cell_type": "code",
      "metadata": {
        "id": "pbeMUphz0TT-",
        "colab_type": "code",
        "colab": {
          "base_uri": "https://localhost:8080/",
          "height": 102
        },
        "outputId": "5997c9f0-c48b-429e-f202-02f9b6a47d9e"
      },
      "source": [
        "#code vita 2020 - 4\n",
        "'''\n",
        "input\n",
        "\n",
        "18\n",
        "* . * # * * * # * * * # * * * . * .\n",
        "* . * # * . * # . * . # * * * * * *\n",
        "* * * # * * * # * * * # * * * * . *\n",
        "'''\n",
        "\n",
        "vowels = {\n",
        "    'A' : [\n",
        "           ['.','*','.'],\n",
        "           ['*','.','*'],\n",
        "           ['*','.','*']       \n",
        "    ],\n",
        "\n",
        "    'E' : [\n",
        "           ['*','*','*'],\n",
        "           ['*','*','*'],\n",
        "           ['*','*','*']\n",
        "    ] ,\n",
        "\n",
        "    'I' : [\n",
        "           ['*','*','*'],\n",
        "           ['.','*','.'],\n",
        "           ['*','*','*']\n",
        "    ],\n",
        "\n",
        "    'O' : [\n",
        "           ['*','*','*'],\n",
        "           ['*','.','*'],\n",
        "           ['*','*','*']\n",
        "    ],\n",
        "\n",
        "    'U' : [\n",
        "           ['*','.','*'],\n",
        "           ['*','.','*'],\n",
        "           ['*','*','*']\n",
        "    ]\n",
        "}\n",
        "\n",
        "a = int(input())\n",
        "new = []\n",
        "ans = ''\n",
        "for i in range(3):\n",
        "  new.append(input().replace(' ',''))\n",
        "\n",
        "arr = [False for _ in range(a)]\n",
        "i = 0\n",
        "\n",
        "for i in range(n):\n",
        "  if new[0][i] == '#' and new[1][i] == '#' and new[2][i] == '#':\n",
        "    ans += '#'\n",
        "    arr[i] = True\n",
        "    continue\n",
        "    \n",
        "  if i+2 < n:\n",
        "    if arr[i] or arr[i+1] or arr[i+2]:\n",
        "      continue\n",
        "\n",
        "    new2 = []  \n",
        "    for j in range(3):\n",
        "      new2.append([new[j][i], new[j][i+1] ,new[j][i+2]])\n",
        "  \n",
        "    for key in vowels:\n",
        "      if vowels[key] == new2:\n",
        "        ans += key\n",
        "        arr[i],arr[i+1],arr[i+2] = True, True, True\n",
        "        break\n",
        "print(ans)\n",
        "\n"
      ],
      "execution_count": 31,
      "outputs": [
        {
          "output_type": "stream",
          "text": [
            "18\n",
            "* . * # * * * # * * * # * * * . * .\n",
            "* . * # * . * # . * . # * * * * * *\n",
            "* * * # * * * # * * * # * * * * . *\n",
            "U#O#I#E\n"
          ],
          "name": "stdout"
        }
      ]
    }
  ]
}