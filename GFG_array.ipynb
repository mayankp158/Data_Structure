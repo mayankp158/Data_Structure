{
  "nbformat": 4,
  "nbformat_minor": 0,
  "metadata": {
    "colab": {
      "name": "GFG_array.ipynb",
      "provenance": [],
      "authorship_tag": "ABX9TyNQiG1an9J51x/Ycm9QdJCB",
      "include_colab_link": true
    },
    "kernelspec": {
      "name": "python3",
      "display_name": "Python 3"
    }
  },
  "cells": [
    {
      "cell_type": "markdown",
      "metadata": {
        "id": "view-in-github",
        "colab_type": "text"
      },
      "source": [
        "<a href=\"https://colab.research.google.com/github/mayankp158/Data_Structure/blob/master/GFG_array.ipynb\" target=\"_parent\"><img src=\"https://colab.research.google.com/assets/colab-badge.svg\" alt=\"Open In Colab\"/></a>"
      ]
    },
    {
      "cell_type": "code",
      "metadata": {
        "id": "GO219oMDjVSw",
        "colab_type": "code",
        "colab": {
          "base_uri": "https://localhost:8080/",
          "height": 34
        },
        "outputId": "ea25437f-e447-4008-af4e-d18126bfaeeb"
      },
      "source": [
        "def rotate(arr,n):\n",
        "  temp = arr[n-1]\n",
        "  \n",
        "  for i in range(n-1,0,-1):\n",
        "    arr[i] = arr[i-1]\n",
        "  arr[0] = temp\n",
        "  return arr\n",
        "  \n",
        "rotate([1,2,3,4,5],5)"
      ],
      "execution_count": 17,
      "outputs": [
        {
          "output_type": "execute_result",
          "data": {
            "text/plain": [
              "[5, 1, 2, 3, 4]"
            ]
          },
          "metadata": {
            "tags": []
          },
          "execution_count": 17
        }
      ]
    },
    {
      "cell_type": "code",
      "metadata": {
        "id": "Z2L-ax_1UJyh",
        "colab_type": "code",
        "colab": {
          "base_uri": "https://localhost:8080/",
          "height": 34
        },
        "outputId": "be4d43d6-0768-4c66-94a6-3ffea39f7236"
      },
      "source": [
        "def binary(arr,l,h,key):\n",
        "\n",
        "  if l>h:\n",
        "    return -1\n",
        "  mid = (l+h) // 2\n",
        "  if arr[mid] == key:\n",
        "    return mid\n",
        "  \n",
        "  #check array first half is sorted or not\n",
        "\n",
        "  if arr[l] <= arr[mid]:\n",
        "    #search in first half range\n",
        "    if key >= arr[l] and key <= arr[mid]:\n",
        "      return binary(arr,l,mid-1,key)\n",
        "    return binary(arr,mid+1,h,key)\n",
        "    #search in second half range\n",
        "  if key >= arr[mid] and key <=arr[h]:\n",
        "    return binary(arr,mid+1,h,key)\n",
        "  return binary(arr,l,mid-1,key)\n",
        "\n",
        "arr = [4, 5, 6, 7, 8, 9, 1, 2, 3] \n",
        "key = 6\n",
        "i = binary(arr, 0, len(arr)-1, key) \n",
        "if i != -1: \n",
        "    print (\"Index: % d\"% i) \n",
        "else: \n",
        "    print (\"Key not found\")"
      ],
      "execution_count": 29,
      "outputs": [
        {
          "output_type": "stream",
          "text": [
            "Index:  2\n"
          ],
          "name": "stdout"
        }
      ]
    },
    {
      "cell_type": "code",
      "metadata": {
        "id": "tgz_kWuviyV7",
        "colab_type": "code",
        "colab": {
          "base_uri": "https://localhost:8080/",
          "height": 34
        },
        "outputId": "30ea735c-6229-4d78-f826-2ae86a04454f"
      },
      "source": [
        "def find(arr,sum):\n",
        "  for i in arr:\n",
        "    new = sum - i\n",
        "    for j in arr:\n",
        "      if j == new:\n",
        "        return (i,j)\n",
        "        break\n",
        "\n",
        "find([11, 15, 26, 38, 9, 10],35)"
      ],
      "execution_count": 40,
      "outputs": [
        {
          "output_type": "execute_result",
          "data": {
            "text/plain": [
              "(26, 9)"
            ]
          },
          "metadata": {
            "tags": []
          },
          "execution_count": 40
        }
      ]
    },
    {
      "cell_type": "code",
      "metadata": {
        "id": "YwJE2uXBrNFa",
        "colab_type": "code",
        "colab": {
          "base_uri": "https://localhost:8080/",
          "height": 34
        },
        "outputId": "83f53f1b-1f3d-4ae5-a38f-e20cf5cd86fa"
      },
      "source": [
        "def find2(arr,n,sum):\n",
        "  for i in range(n):\n",
        "    if arr[i] > arr[i+1]:\n",
        "      break\n",
        "  l = (i+1)%n\n",
        "  r = i\n",
        "  \n",
        "  count = 0\n",
        "  while(l!=r):\n",
        "    \n",
        "    if arr[l]+arr[r] == sum:\n",
        "      count +=1\n",
        "\n",
        "      if l == (r-1+n)%n:\n",
        "        \n",
        "        return count\n",
        "\n",
        "      l = (l+1)%n\n",
        "      r = (r-1+n)%n\n",
        "\n",
        "    elif arr[l]+arr[r]<sum:\n",
        "      l = (l+1)%n\n",
        "\n",
        "    else:\n",
        "      r = (n+r-1)%n\n",
        "  return count\n",
        "\n",
        "\n",
        "arr = [11, 15, 6, 7, 9, 10] \n",
        "s = 16\n",
        "  \n",
        "print(find2(arr, 6, s))"
      ],
      "execution_count": 61,
      "outputs": [
        {
          "output_type": "stream",
          "text": [
            "2\n"
          ],
          "name": "stdout"
        }
      ]
    },
    {
      "cell_type": "code",
      "metadata": {
        "id": "zMHNREDFz2HZ",
        "colab_type": "code",
        "colab": {
          "base_uri": "https://localhost:8080/",
          "height": 34
        },
        "outputId": "08555fa3-2985-4f6e-b0d3-a2ece1af5b2f"
      },
      "source": [
        "def max_sum(arr):\n",
        "  sum = 0\n",
        "  for i in range(len(arr)):\n",
        "    sum += arr[i]*i\n",
        "    i=i+1\n",
        "  return sum\n",
        "print(max_sum([1, 2, 3, 4, 5, 6, 7, 8, 9, 10]))"
      ],
      "execution_count": 72,
      "outputs": [
        {
          "output_type": "stream",
          "text": [
            "330\n"
          ],
          "name": "stdout"
        }
      ]
    },
    {
      "cell_type": "code",
      "metadata": {
        "id": "QVEbunIIAZgy",
        "colab_type": "code",
        "colab": {}
      },
      "source": [
        "def max(arr):\n",
        "  curr_val = 0\n",
        "  arrsum = 0\n",
        "  n = len(arr)\n",
        "  for i in range(n):\n",
        "    arrsum += arr[i]\n",
        "    curr_val += i*arr[i]\n",
        "\n",
        "    max_val = curr_val\n",
        "\n",
        "  for j in range(1,n):\n",
        "    curr_val += arrsum - n*arr[n-j]\n",
        "    if curr_val >max_val:\n",
        "      max_val = curr_val\n",
        "  return max_val "
      ],
      "execution_count": 6,
      "outputs": []
    },
    {
      "cell_type": "code",
      "metadata": {
        "id": "VJA4dMa1BonM",
        "colab_type": "code",
        "colab": {
          "base_uri": "https://localhost:8080/",
          "height": 34
        },
        "outputId": "6020ac4d-7ba4-4f09-914e-d847da426e1a"
      },
      "source": [
        "arr = [10, 1, 2, 3, 4, 5, 6, 7, 8, 9] \n",
        "max(arr) "
      ],
      "execution_count": 7,
      "outputs": [
        {
          "output_type": "execute_result",
          "data": {
            "text/plain": [
              "330"
            ]
          },
          "metadata": {
            "tags": []
          },
          "execution_count": 7
        }
      ]
    },
    {
      "cell_type": "code",
      "metadata": {
        "id": "o8HFpwINB54L",
        "colab_type": "code",
        "colab": {}
      },
      "source": [
        "def reverse(arr):\n",
        "  curr_val = 0\n",
        "  arr_sum = 0\n",
        "  n = len(arr)\n",
        "  for i in range(n):\n",
        "    arr_sum += arr[i]\n",
        "    cur_val += i*arr[i]\n",
        "\n",
        "    max_val = curr_val\n",
        "  for j in range(-2,-1,-1):\n",
        "    curr_val += arrsum - n*arr[n-j]\n",
        "    if curr_val>max_val:\n",
        "      max_val = curr_val\n",
        "  return max_val"
      ],
      "execution_count": 32,
      "outputs": []
    },
    {
      "cell_type": "code",
      "metadata": {
        "id": "w-lYARAWCxlk",
        "colab_type": "code",
        "colab": {
          "base_uri": "https://localhost:8080/",
          "height": 34
        },
        "outputId": "3097a289-7088-41ab-b15b-61981a135b4e"
      },
      "source": [
        "arr = [3, 2, 1] \n",
        "max(arr) "
      ],
      "execution_count": 35,
      "outputs": [
        {
          "output_type": "execute_result",
          "data": {
            "text/plain": [
              "7"
            ]
          },
          "metadata": {
            "tags": []
          },
          "execution_count": 35
        }
      ]
    },
    {
      "cell_type": "code",
      "metadata": {
        "id": "K79rUaOIOrZi",
        "colab_type": "code",
        "colab": {
          "base_uri": "https://localhost:8080/",
          "height": 34
        },
        "outputId": "e2e7e24a-bd8e-4d27-b887-31fbfc83362f"
      },
      "source": [
        "def min(arr,l,h):\n",
        "  min_index = 0\n",
        "  min = arr[0]\n",
        "  for i in range(len(arr)):\n",
        "    if arr[i] < min:\n",
        "      min = arr[i]\n",
        "      min_index = i\n",
        "  return min_index\n",
        "arr = [15, 18, 2, 3, 6, 12]\n",
        "min(arr,0,n-1)"
      ],
      "execution_count": 40,
      "outputs": [
        {
          "output_type": "execute_result",
          "data": {
            "text/plain": [
              "2"
            ]
          },
          "metadata": {
            "tags": []
          },
          "execution_count": 40
        }
      ]
    },
    {
      "cell_type": "code",
      "metadata": {
        "id": "8fAWlNVzPgNE",
        "colab_type": "code",
        "colab": {}
      },
      "source": [
        "def binary_search(arr,l,h):\n",
        "  if h<l:\n",
        "    return 0\n",
        "  if h == l:\n",
        "    return l\n",
        "\n",
        "  mid  = (h+l)//2\n",
        "\n",
        "  if mid<h and arr[mid+1] < arr[mid]:\n",
        "    return mid+1\n",
        "  if mid>l and arr[mid-1] > arr[mid]:\n",
        "    return mid\n",
        "  else:\n",
        "    if arr[h]>arr[mid]:\n",
        "      return binary_search(arr,l,mid-1)\n",
        "    return binary_search(arr,mid+1,h)\n"
      ],
      "execution_count": 41,
      "outputs": []
    },
    {
      "cell_type": "code",
      "metadata": {
        "id": "q6vvfs2eRz3j",
        "colab_type": "code",
        "colab": {
          "base_uri": "https://localhost:8080/",
          "height": 34
        },
        "outputId": "a0de3ade-8a4e-494c-8b03-79079f037258"
      },
      "source": [
        "arr = [7, 9, 11, 12, 5] \n",
        "n = len(arr) \n",
        "print(binary_search(arr, 0, n-1))"
      ],
      "execution_count": 44,
      "outputs": [
        {
          "output_type": "stream",
          "text": [
            "4\n"
          ],
          "name": "stdout"
        }
      ]
    },
    {
      "cell_type": "code",
      "metadata": {
        "id": "SA393HQj0c-C",
        "colab_type": "code",
        "colab": {
          "base_uri": "https://localhost:8080/",
          "height": 85
        },
        "outputId": "ad618704-fdd5-4992-d6a3-c10c046224dd"
      },
      "source": [
        "def temp(arr,n):\n",
        "  temp_arr = [0] * (2*n)\n",
        "  for i in range(n):\n",
        "    temp_arr[i] = temp_arr[i+n] = arr[i]\n",
        "  return temp_arr\n",
        "\n",
        "def rotation(temp_arr,k):\n",
        "  start = k%n\n",
        "  for j in range(start,start+n):\n",
        "    print(temp_arr[j],end=\" \")\n",
        "  print(\"\") \n",
        "\n",
        "arr = [1, 3, 5, 7, 9]\n",
        "n = len(arr)\n",
        "k1 = 1\n",
        "k2 = 3\n",
        "k3 = 4\n",
        "k4 = 6\n",
        "\n",
        "\n",
        "temp_arr = temp(arr,n)\n",
        "rotation(temp_arr,k1)\n",
        "rotation(temp_arr,k2)\n",
        "rotation(temp_arr,k3)\n",
        "rotation(temp_arr,k4)"
      ],
      "execution_count": 56,
      "outputs": [
        {
          "output_type": "stream",
          "text": [
            "3 5 7 9 1 \n",
            "7 9 1 3 5 \n",
            "9 1 3 5 7 \n",
            "3 5 7 9 1 \n"
          ],
          "name": "stdout"
        }
      ]
    },
    {
      "cell_type": "code",
      "metadata": {
        "id": "VJS234My3CxS",
        "colab_type": "code",
        "colab": {
          "base_uri": "https://localhost:8080/",
          "height": 34
        },
        "outputId": "4188c6aa-25ea-4126-b663-e711f92ea465"
      },
      "source": [
        "def temp(arr,n):\n",
        "  temp_arr = [0] * (2*n)\n",
        "  for i in range(n):\n",
        "    temp_arr[i] = temp_arr[i+n] = arr[i]\n",
        "  return temp_arr\n",
        "\n",
        "def rotation(temp_arr,k):\n",
        "  end = len(temp_arr) - k\n",
        "  for j in range(n-k,end):\n",
        "    print(temp_arr[j],end=\" \")\n",
        "  print(\"\") \n",
        "\n",
        "arr = [1, 2, 3, 4, 5, 6, 7, 8, 9, 10]\n",
        "n = len(arr)\n",
        "k = 1\n",
        "\n",
        "temp_arr = temp(arr,n)\n",
        "rotation(temp_arr,k)"
      ],
      "execution_count": 86,
      "outputs": [
        {
          "output_type": "stream",
          "text": [
            "10 1 2 3 4 5 6 7 8 9 \n"
          ],
          "name": "stdout"
        }
      ]
    },
    {
      "cell_type": "code",
      "metadata": {
        "id": "7zrveg86FL0Z",
        "colab_type": "code",
        "colab": {
          "base_uri": "https://localhost:8080/",
          "height": 34
        },
        "outputId": "26827bd1-365a-4516-ef65-487c67de80b4"
      },
      "source": [
        "def hammer(arr,n):\n",
        "  temp = [0]*(2*n+1)\n",
        "  for i in range(n):\n",
        "    temp[i] = temp[n+i] = arr[i]\n",
        "  k = 0\n",
        " \n",
        "  for i in range(1,n):\n",
        "    curr_hammer = 0\n",
        "    max_hammer = 0\n",
        "    for j in range(i,i+n):\n",
        "      if temp[j] != arr[k]:\n",
        "        curr_hammer +=1\n",
        "        k += 1\n",
        "      if curr_hammer == n:\n",
        "        return n\n",
        "      \n",
        "  return max(max_hammer,curr_hammer)\n",
        "\n",
        "arr = [2, 4, 6, 8] \n",
        "n = len(arr) \n",
        "print(hammer(arr, n))"
      ],
      "execution_count": 85,
      "outputs": [
        {
          "output_type": "stream",
          "text": [
            "4\n"
          ],
          "name": "stdout"
        }
      ]
    },
    {
      "cell_type": "code",
      "metadata": {
        "id": "rcdkEZDcIHBy",
        "colab_type": "code",
        "colab": {
          "base_uri": "https://localhost:8080/",
          "height": 34
        },
        "outputId": "ea0d0bb5-31a3-4737-8c4f-2fc0f9db0053"
      },
      "source": [
        "left_array = []\n",
        "right_array = []\n",
        "\n",
        "def temp(arr,n):\n",
        "  temp_arr = [0] * (2*n)\n",
        "  for i in range(n):\n",
        "    temp_arr[i] = temp_arr[i+n] = arr[i]\n",
        "  return temp_arr\n",
        "\n",
        "def left_rotation(temp_arr2,k):\n",
        "  n2 = len(arr)\n",
        "  start = k%n2\n",
        "\n",
        "  for j in range(start,start+n2):\n",
        "    print(temp_arr2[j],end=\" \")\n",
        "\n",
        "def temp2(right_array,n2):\n",
        "  temp_arr2 = [0] * (2*n2)\n",
        "  for i in range(n2):\n",
        "    temp_arr2[i] = temp_arr2[i+n2] = right_array[i]\n",
        "  \n",
        "  return temp_arr2\n",
        "\n",
        "\n",
        "def right_rotation(temp_arr,k):\n",
        "  end = len(temp_arr) - k\n",
        "  for j in range(n-k,end):\n",
        "    right_array.append(temp_arr[j])\n",
        "  \n",
        "  return right_array\n",
        "\n",
        "def combine(temp,r,l):\n",
        "  a = right_rotation(temp,r)\n",
        "  n2 = len(right_array)\n",
        "  \n",
        "  c = temp2(right_array,n2)\n",
        "  b = left_rotation(c,l)\n",
        "  return b\n",
        "\n",
        "arr = [1, 2, 3, 4, 5] \n",
        "n = len(arr)\n",
        "\n",
        "\n",
        "temp = temp(arr, n)\n",
        "\n",
        "\n",
        "combine(temp,1,3)\n"
      ],
      "execution_count": 7,
      "outputs": [
        {
          "output_type": "stream",
          "text": [
            "3 4 5 1 2 "
          ],
          "name": "stdout"
        }
      ]
    },
    {
      "cell_type": "code",
      "metadata": {
        "id": "Ku2EYl2qMElJ",
        "colab_type": "code",
        "colab": {
          "base_uri": "https://localhost:8080/",
          "height": 68
        },
        "outputId": "769586e5-b74e-4357-fb5e-066f99b9e179"
      },
      "source": [
        "def rotate_nice(arr,n,k):\n",
        "  start = k%n\n",
        "  for i in range(n):\n",
        "    print(str(arr[ (start+i) % n]),end=\" \")\n",
        "  print(\"\")\n",
        "  return\n",
        "\n",
        "arr = [ 1, 3, 5, 7, 9 ] \n",
        "n = len(arr) \n",
        "k = 2\n",
        "rotate_nice(arr, n, k)\n",
        "\n",
        "k = 3\n",
        "rotate_nice(arr, n, k) \n",
        "  \n",
        "k = 4\n",
        "rotate_nice(arr, n, k) "
      ],
      "execution_count": 12,
      "outputs": [
        {
          "output_type": "stream",
          "text": [
            "5 7 9 1 3 \n",
            "7 9 1 3 5 \n",
            "9 1 3 5 7 \n"
          ],
          "name": "stdout"
        }
      ]
    },
    {
      "cell_type": "code",
      "metadata": {
        "id": "CRQp09v8VJj5",
        "colab_type": "code",
        "colab": {
          "base_uri": "https://localhost:8080/",
          "height": 34
        },
        "outputId": "473406a9-f016-466c-f7cf-dbff2e0fd740"
      },
      "source": [
        "def find(arr,ranges,index):\n",
        "  for i in range(rotations -1, -1, -1):\n",
        "    left = ranges[i][0]\n",
        "    right = ranges[i][1]\n",
        "    if index<=right and index >=left:\n",
        "      if left == index:\n",
        "        index = right \n",
        "      else:\n",
        "        index -=1\n",
        "  return arr[index]\n",
        "\n",
        "arr = [ 1, 2, 3, 4, 5 ] \n",
        "   \n",
        "rotations = 2\n",
        "\n",
        "ranges = [ [ 0, 2 ], [ 0, 3 ] ] \n",
        "  \n",
        "index = 1\n",
        "\n",
        "find(arr,ranges,index)"
      ],
      "execution_count": 16,
      "outputs": [
        {
          "output_type": "execute_result",
          "data": {
            "text/plain": [
              "3"
            ]
          },
          "metadata": {
            "tags": []
          },
          "execution_count": 16
        }
      ]
    }
  ]
}