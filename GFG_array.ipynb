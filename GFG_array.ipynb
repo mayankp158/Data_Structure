{
  "nbformat": 4,
  "nbformat_minor": 0,
  "metadata": {
    "colab": {
      "name": "GFG_array.ipynb",
      "provenance": [],
      "authorship_tag": "ABX9TyNLnrSBejOsfNC2A7jzI5wX",
      "include_colab_link": true
    },
    "kernelspec": {
      "name": "python3",
      "display_name": "Python 3"
    }
  },
  "cells": [
    {
      "cell_type": "markdown",
      "metadata": {
        "id": "view-in-github",
        "colab_type": "text"
      },
      "source": [
        "<a href=\"https://colab.research.google.com/github/mayankp158/Data_Structure/blob/master/GFG_array.ipynb\" target=\"_parent\"><img src=\"https://colab.research.google.com/assets/colab-badge.svg\" alt=\"Open In Colab\"/></a>"
      ]
    },
    {
      "cell_type": "code",
      "metadata": {
        "id": "GO219oMDjVSw",
        "colab_type": "code",
        "colab": {
          "base_uri": "https://localhost:8080/",
          "height": 34
        },
        "outputId": "ea25437f-e447-4008-af4e-d18126bfaeeb"
      },
      "source": [
        "def rotate(arr,n):\n",
        "  temp = arr[n-1]\n",
        "  \n",
        "  for i in range(n-1,0,-1):\n",
        "    arr[i] = arr[i-1]\n",
        "  arr[0] = temp\n",
        "  return arr\n",
        "  \n",
        "rotate([1,2,3,4,5],5)"
      ],
      "execution_count": 17,
      "outputs": [
        {
          "output_type": "execute_result",
          "data": {
            "text/plain": [
              "[5, 1, 2, 3, 4]"
            ]
          },
          "metadata": {
            "tags": []
          },
          "execution_count": 17
        }
      ]
    },
    {
      "cell_type": "code",
      "metadata": {
        "id": "Z2L-ax_1UJyh",
        "colab_type": "code",
        "colab": {
          "base_uri": "https://localhost:8080/",
          "height": 34
        },
        "outputId": "be4d43d6-0768-4c66-94a6-3ffea39f7236"
      },
      "source": [
        "def binary(arr,l,h,key):\n",
        "\n",
        "  if l>h:\n",
        "    return -1\n",
        "  mid = (l+h) // 2\n",
        "  if arr[mid] == key:\n",
        "    return mid\n",
        "  \n",
        "  #check array first half is sorted or not\n",
        "\n",
        "  if arr[l] <= arr[mid]:\n",
        "    #search in first half range\n",
        "    if key >= arr[l] and key <= arr[mid]:\n",
        "      return binary(arr,l,mid-1,key)\n",
        "    return binary(arr,mid+1,h,key)\n",
        "    #search in second half range\n",
        "  if key >= arr[mid] and key <=arr[h]:\n",
        "    return binary(arr,mid+1,h,key)\n",
        "  return binary(arr,l,mid-1,key)\n",
        "\n",
        "arr = [4, 5, 6, 7, 8, 9, 1, 2, 3] \n",
        "key = 6\n",
        "i = binary(arr, 0, len(arr)-1, key) \n",
        "if i != -1: \n",
        "    print (\"Index: % d\"% i) \n",
        "else: \n",
        "    print (\"Key not found\")"
      ],
      "execution_count": 29,
      "outputs": [
        {
          "output_type": "stream",
          "text": [
            "Index:  2\n"
          ],
          "name": "stdout"
        }
      ]
    },
    {
      "cell_type": "code",
      "metadata": {
        "id": "tgz_kWuviyV7",
        "colab_type": "code",
        "colab": {
          "base_uri": "https://localhost:8080/",
          "height": 34
        },
        "outputId": "30ea735c-6229-4d78-f826-2ae86a04454f"
      },
      "source": [
        "def find(arr,sum):\n",
        "  for i in arr:\n",
        "    new = sum - i\n",
        "    for j in arr:\n",
        "      if j == new:\n",
        "        return (i,j)\n",
        "        break\n",
        "\n",
        "find([11, 15, 26, 38, 9, 10],35)"
      ],
      "execution_count": 40,
      "outputs": [
        {
          "output_type": "execute_result",
          "data": {
            "text/plain": [
              "(26, 9)"
            ]
          },
          "metadata": {
            "tags": []
          },
          "execution_count": 40
        }
      ]
    },
    {
      "cell_type": "code",
      "metadata": {
        "id": "YwJE2uXBrNFa",
        "colab_type": "code",
        "colab": {
          "base_uri": "https://localhost:8080/",
          "height": 34
        },
        "outputId": "83f53f1b-1f3d-4ae5-a38f-e20cf5cd86fa"
      },
      "source": [
        "def find2(arr,n,sum):\n",
        "  for i in range(n):\n",
        "    if arr[i] > arr[i+1]:\n",
        "      break\n",
        "  l = (i+1)%n\n",
        "  r = i\n",
        "  \n",
        "  count = 0\n",
        "  while(l!=r):\n",
        "    \n",
        "    if arr[l]+arr[r] == sum:\n",
        "      count +=1\n",
        "\n",
        "      if l == (r-1+n)%n:\n",
        "        \n",
        "        return count\n",
        "\n",
        "      l = (l+1)%n\n",
        "      r = (r-1+n)%n\n",
        "\n",
        "    elif arr[l]+arr[r]<sum:\n",
        "      l = (l+1)%n\n",
        "\n",
        "    else:\n",
        "      r = (n+r-1)%n\n",
        "  return count\n",
        "\n",
        "\n",
        "arr = [11, 15, 6, 7, 9, 10] \n",
        "s = 16\n",
        "  \n",
        "print(find2(arr, 6, s))"
      ],
      "execution_count": 61,
      "outputs": [
        {
          "output_type": "stream",
          "text": [
            "2\n"
          ],
          "name": "stdout"
        }
      ]
    },
    {
      "cell_type": "code",
      "metadata": {
        "id": "zMHNREDFz2HZ",
        "colab_type": "code",
        "colab": {}
      },
      "source": [
        ""
      ],
      "execution_count": null,
      "outputs": []
    }
  ]
}